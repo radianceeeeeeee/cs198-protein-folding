{
 "cells": [
  {
   "cell_type": "code",
   "execution_count": null,
   "id": "38f42377",
   "metadata": {},
   "outputs": [],
   "source": [
    "from PIL import Image\n",
    "import os\n",
    "import math\n",
    "\n",
    "# CONFIGURE THIS:\n",
    "input_folder = 'path/to/your/plots'\n",
    "output_folder = 'path/to/output/folder'\n",
    "images_per_combined = 6\n",
    "grid_size = (3, 2)  # 3 columns, 2 rows\n",
    "\n",
    "# Make sure output folder exists\n",
    "os.makedirs(output_folder, exist_ok=True)\n",
    "\n",
    "# Get sorted list of plot images\n",
    "image_files = sorted([f for f in os.listdir(input_folder) if f.endswith(('.png', '.jpg'))])\n",
    "\n",
    "def combine_images(image_group, save_path):\n",
    "    images = [Image.open(os.path.join(input_folder, img)) for img in image_group]\n",
    "    widths, heights = zip(*(img.size for img in images))\n",
    "\n",
    "    max_width = max(widths)\n",
    "    max_height = max(heights)\n",
    "\n",
    "    cols, rows = grid_size\n",
    "    combined_image = Image.new('RGB', (cols * max_width, rows * max_height), color='white')\n",
    "\n",
    "    for idx, img in enumerate(images):\n",
    "        x = (idx % cols) * max_width\n",
    "        y = (idx // cols) * max_height\n",
    "        combined_image.paste(img, (x, y))\n",
    "\n",
    "    combined_image.save(save_path)\n",
    "\n",
    "# Process in groups of 6\n",
    "for i in range(0, len(image_files), images_per_combined):\n",
    "    group = image_files[i:i + images_per_combined]\n",
    "    if len(group) < images_per_combined:\n",
    "        # Optional: Skip or pad last group\n",
    "        continue\n",
    "\n",
    "    output_path = os.path.join(output_folder, f'combined_{i//images_per_combined + 1:04}.png')\n",
    "    combine_images(group, output_path)\n",
    "\n",
    "print(\"Done combining images.\")\n"
   ]
  }
 ],
 "metadata": {
  "language_info": {
   "name": "python"
  }
 },
 "nbformat": 4,
 "nbformat_minor": 5
}
