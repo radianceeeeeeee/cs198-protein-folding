{
 "cells": [
  {
   "cell_type": "code",
   "execution_count": 1,
   "id": "d998a2b6",
   "metadata": {},
   "outputs": [],
   "source": [
    "import import_ipynb\n",
    "from preprocess import *\n",
    "from plots import *\n",
    "from minima import *\n",
    "from algorithms import *\n",
    "\n",
    "\n",
    "# IMPORT NECESSARY MODULES\n",
    "import os\n",
    "import scipy\n",
    "import numpy as np\n",
    "import pandas as pd\n",
    "import seaborn as sns\n",
    "\n",
    "import matplotlib.pyplot as plt\n",
    "import plotly.graph_objects as go\n",
    "\n",
    "from itertools import permutations\n",
    "\n",
    "folder_path = \"/Users/ramonjr.comendador/cs198-protein-folding/datasets\""
   ]
  },
  {
   "cell_type": "code",
   "execution_count": null,
   "id": "0d6e3ae6",
   "metadata": {},
   "outputs": [
    {
     "name": "stdout",
     "output_type": "stream",
     "text": [
      "[(249, 15), (11, 169), (78, 175), (92, 15), (106, 74), (121, 56), (150, 249), (151, 169), (177, 67), (241, 15), (0, 171)]\n"
     ]
    },
    {
     "ename": "KeyboardInterrupt",
     "evalue": "",
     "output_type": "error",
     "traceback": [
      "\u001b[0;31m---------------------------------------------------------------------------\u001b[0m",
      "\u001b[0;31mKeyboardInterrupt\u001b[0m                         Traceback (most recent call last)",
      "Cell \u001b[0;32mIn[2], line 22\u001b[0m\n\u001b[1;32m     20\u001b[0m \u001b[38;5;28;01mfor\u001b[39;00m start, end \u001b[38;5;129;01min\u001b[39;00m permutations(minima_list, \u001b[38;5;241m2\u001b[39m):\n\u001b[1;32m     21\u001b[0m     result1 \u001b[38;5;241m=\u001b[39m dijkstra_waed(matrix, start, end, uphill_weight\u001b[38;5;241m=\u001b[39m\u001b[38;5;241m1\u001b[39m, downhill_weight\u001b[38;5;241m=\u001b[39m\u001b[38;5;241m1\u001b[39m)\n\u001b[0;32m---> 22\u001b[0m     result8 \u001b[38;5;241m=\u001b[39m dijkstra_waed(matrix, start, end, uphill_weight\u001b[38;5;241m=\u001b[39m\u001b[38;5;241m1\u001b[39m, downhill_weight\u001b[38;5;241m=\u001b[39m\u001b[38;5;241m0.8\u001b[39m)\n\u001b[1;32m     23\u001b[0m     result6 \u001b[38;5;241m=\u001b[39m dijkstra_waed(matrix, start, end, uphill_weight\u001b[38;5;241m=\u001b[39m\u001b[38;5;241m1\u001b[39m, downhill_weight\u001b[38;5;241m=\u001b[39m\u001b[38;5;241m0.6\u001b[39m)\n\u001b[1;32m     24\u001b[0m     result4 \u001b[38;5;241m=\u001b[39m dijkstra_waed(matrix, start, end, uphill_weight\u001b[38;5;241m=\u001b[39m\u001b[38;5;241m1\u001b[39m, downhill_weight\u001b[38;5;241m=\u001b[39m\u001b[38;5;241m0.4\u001b[39m)\n",
      "File \u001b[0;32m<string>:73\u001b[0m, in \u001b[0;36mdijkstra_waed\u001b[0;34m(surface, start, goal, uphill_weight, downhill_weight)\u001b[0m\n",
      "\u001b[0;31mKeyboardInterrupt\u001b[0m: "
     ]
    }
   ],
   "source": [
    "# Step 1: Obtain necessary CSV files and convert to 3D matrices\n",
    "csv_files = get_csv(folder_path)\n",
    "matrices = csv_to_3d_matrix(folder_path, csv_files) \n",
    "\n",
    "# Step 2: Find local minima for each matrix\n",
    "local_minima = [find_local_minima(matrix) for matrix in matrices]\n",
    "\n",
    "\n",
    "paths_and_metrics_1 = []\n",
    "paths_and_metrics_8 = []\n",
    "paths_and_metrics_6 = []\n",
    "paths_and_metrics_4 = []\n",
    "paths_and_metrics_2 = []\n",
    "paths_and_metrics_0 = []\n",
    "\n",
    "# Step 3: Plot the energy landscape\n",
    "for i, matrix in enumerate(matrices):\n",
    "    minima_list = local_minima[i]\n",
    "    print(minima_list)\n",
    "    for start, end in permutations(minima_list, 2):\n",
    "        result1 = dijkstra_waed(matrix, start, end, uphill_weight=1, downhill_weight=1)\n",
    "        result8 = dijkstra_waed(matrix, start, end, uphill_weight=1, downhill_weight=0.8)\n",
    "        result6 = dijkstra_waed(matrix, start, end, uphill_weight=1, downhill_weight=0.6)\n",
    "        result4 = dijkstra_waed(matrix, start, end, uphill_weight=1, downhill_weight=0.4)\n",
    "        result2 = dijkstra_waed(matrix, start, end, uphill_weight=1, downhill_weight=0.2)\n",
    "        result0 = dijkstra_waed(matrix, start, end, uphill_weight=1, downhill_weight=0)\n",
    "\n",
    "        paths_and_metrics_1.append(result1)\n",
    "        paths_and_metrics_8.append(result8)\n",
    "        paths_and_metrics_6.append(result6)\n",
    "        paths_and_metrics_4.append(result4)\n",
    "        paths_and_metrics_2.append(result2)\n",
    "        paths_and_metrics_0.append(result0)\n",
    "\n",
    "paths_1 = [metric[0] for metric in paths_and_metrics_1]\n",
    "metrics_1 = [metric[1] for metric in paths_and_metrics_1]\n",
    "\n",
    "paths_8 = [metric[0] for metric in paths_and_metrics_8]\n",
    "metrics_8 = [metric[1] for metric in paths_and_metrics_8]\n",
    "\n",
    "paths_6 = [metric[0] for metric in paths_and_metrics_6]\n",
    "metrics_6 = [metric[1] for metric in paths_and_metrics_6]\n",
    "\n",
    "paths_4 = [metric[0] for metric in paths_and_metrics_4]\n",
    "metrics_4 = [metric[1] for metric in paths_and_metrics_4]\n",
    "\n",
    "paths_2 = [metric[0] for metric in paths_and_metrics_2]\n",
    "metrics_2 = [metric[1] for metric in paths_and_metrics_2]\n",
    "\n",
    "paths_0 = [metric[0] for metric in paths_and_metrics_0]\n",
    "metrics_0 = [metric[1] for metric in paths_and_metrics_0]\n",
    "\n",
    "# Step 4: Plot heatmaps Dijkstra paths\n",
    "# plots = plot_heatmap_2d(matrices, local_minima, paths)\n",
    "\n",
    "# Step 5: Convert to DataFrame\n",
    "df1 = pd.DataFrame(metrics_1)\n",
    "df8 = pd.DataFrame(metrics_8)\n",
    "df6 = pd.DataFrame(metrics_6)\n",
    "df4 = pd.DataFrame(metrics_4)\n",
    "df2 = pd.DataFrame(metrics_2)\n",
    "df0 = pd.DataFrame(metrics_0)\n",
    "\n",
    "# Save to CSV\n",
    "df1.to_csv(\"path_metrics_1-1.csv\", index=False)\n",
    "df8.to_csv(\"path_metrics_1-0.8.csv\", index=False)\n",
    "df6.to_csv(\"path_metrics_1-0.6.csv\", index=False)\n",
    "df4.to_csv(\"path_metrics_1-0.4.csv\", index=False)\n",
    "df2.to_csv(\"path_metrics_1-0.2.csv\", index=False)\n",
    "df0.to_csv(\"path_metrics_1-0.csv\", index=False)\n"
   ]
  },
  {
   "cell_type": "code",
   "execution_count": null,
   "id": "84c58d8f",
   "metadata": {},
   "outputs": [],
   "source": []
  }
 ],
 "metadata": {
  "kernelspec": {
   "display_name": "base",
   "language": "python",
   "name": "python3"
  },
  "language_info": {
   "codemirror_mode": {
    "name": "ipython",
    "version": 3
   },
   "file_extension": ".py",
   "mimetype": "text/x-python",
   "name": "python",
   "nbconvert_exporter": "python",
   "pygments_lexer": "ipython3",
   "version": "3.12.4"
  }
 },
 "nbformat": 4,
 "nbformat_minor": 5
}
