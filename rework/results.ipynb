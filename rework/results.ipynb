{
 "cells": [
  {
   "cell_type": "code",
   "execution_count": 1,
   "id": "7024ec46",
   "metadata": {},
   "outputs": [],
   "source": [
    "import pandas as pd"
   ]
  },
  {
   "cell_type": "code",
   "execution_count": 2,
   "id": "fcb82f7a",
   "metadata": {},
   "outputs": [],
   "source": [
    "def average_float_columns(df: pd.DataFrame) -> dict:\n",
    "    # Select only float-type columns\n",
    "    float_cols = df.select_dtypes(include=['float', 'int'])\n",
    "    \n",
    "    # Compute mean for each float column and convert to dictionary\n",
    "    averages = float_cols.mean().to_dict()\n",
    "    \n",
    "    return averages"
   ]
  },
  {
   "cell_type": "code",
   "execution_count": 3,
   "id": "f8c2b2c4",
   "metadata": {},
   "outputs": [
    {
     "name": "stdout",
     "output_type": "stream",
     "text": [
      "{'path_length': 0.35461040798477134, 'height': 0.18117312435641722, 'total_cost': 0.25344607564719585, 'smoothness': 0.07265579898220874, 'max_step': 0.012095563820719444}\n",
      "{'path_length': 0.3474442278535846, 'height': 0.18117312435641722, 'total_cost': 0.25344607564719585, 'smoothness': 0.10492939809498869, 'max_step': 0.011719282190003287}\n",
      "{'path_length': 0.3698272545398584, 'height': 0.18117312435641722, 'total_cost': 0.25344607564719585, 'smoothness': 0.10441168990153533, 'max_step': 0.011757483266731164}\n",
      "{'path_length': 0.35426425530661243, 'height': 0.18117312435641722, 'total_cost': 0.25344607564719585, 'smoothness': 0.10521613286946861, 'max_step': 0.011680761176083704}\n",
      "{'path_length': 0.3491730515287391, 'height': 0.18117312435641722, 'total_cost': 0.25344607564719585, 'smoothness': 0.10482997083267732, 'max_step': 0.011645771618506578}\n",
      "{'path_length': 0.35461040798477134, 'height': 0.18117312435641722, 'total_cost': 0.25344607564719585, 'smoothness': 0.07265579898220874, 'max_step': 0.012095563820719444}\n"
     ]
    }
   ],
   "source": [
    "# Step 6: Obtain averages per metric per csv\n",
    "df_1 = pd.read_csv(\"/Users/ramonjr.comendador/cs198-protein-folding/rework/path_metrics_1-0.csv\")\n",
    "df_8 = pd.read_csv(\"/Users/ramonjr.comendador/cs198-protein-folding/rework/path_metrics_1-0.8.csv\")\n",
    "df_6 = pd.read_csv(\"/Users/ramonjr.comendador/cs198-protein-folding/rework/path_metrics_1-0.6.csv\")\n",
    "df_4 = pd.read_csv(\"/Users/ramonjr.comendador/cs198-protein-folding/rework/path_metrics_1-0.4.csv\")\n",
    "df_2 = pd.read_csv(\"/Users/ramonjr.comendador/cs198-protein-folding/rework/path_metrics_1-0.2.csv\")\n",
    "df_0 = pd.read_csv(\"/Users/ramonjr.comendador/cs198-protein-folding/rework/path_metrics_1-0.csv\")\n",
    "\n",
    "df_1['path_length'] = (df_1['path_length'] - df_1['path_length'].min()) / (df_1['path_length'].max() - df_1['path_length'].min())\n",
    "df_8['path_length'] = (df_8['path_length'] - df_8['path_length'].min()) / (df_8['path_length'].max() - df_8['path_length'].min())\n",
    "df_6['path_length'] = (df_6['path_length'] - df_6['path_length'].min()) / (df_6['path_length'].max() - df_6['path_length'].min())\n",
    "df_4['path_length'] = (df_4['path_length'] - df_4['path_length'].min()) / (df_4['path_length'].max() - df_4['path_length'].min())\n",
    "df_2['path_length'] = (df_2['path_length'] - df_2['path_length'].min()) / (df_2['path_length'].max() - df_2['path_length'].min())\n",
    "df_0['path_length'] = (df_0['path_length'] - df_0['path_length'].min()) / (df_0['path_length'].max() - df_0['path_length'].min())\n",
    "\n",
    "csv_list = [df_1, df_8, df_6, df_4, df_2, df_0]\n",
    "\n",
    "results = [average_float_columns(df) for df in csv_list]\n",
    "\n",
    "for result in results:\n",
    "    print(result)"
   ]
  },
  {
   "cell_type": "code",
   "execution_count": 4,
   "id": "c0b28e71",
   "metadata": {},
   "outputs": [
    {
     "name": "stdout",
     "output_type": "stream",
     "text": [
      "{'path_length': 6.981392407200186e-05, 'height': 0.00011635654012000311, 'total_cost': 0.00016289915616800435, 'smoothness': 6.981392407200186e-05, 'max_step': 4.654261604800124e-05}\n",
      "{'path_length': 6.840308235867445e-05, 'height': 0.00011400513726445743, 'total_cost': 0.0001596071921702404, 'smoothness': 6.840308235867445e-05, 'max_step': 4.560205490578297e-05}\n",
      "{'path_length': 7.280974073753461e-05, 'height': 0.00012134956789589102, 'total_cost': 0.00016988939505424743, 'smoothness': 7.280974073753461e-05, 'max_step': 4.853982715835641e-05}\n",
      "{'path_length': 6.974577526348931e-05, 'height': 0.0001162429587724822, 'total_cost': 0.00016274014228147507, 'smoothness': 6.974577526348931e-05, 'max_step': 4.6497183508992885e-05}\n",
      "{'path_length': 6.87434445197205e-05, 'height': 0.0001145724075328675, 'total_cost': 0.0001604013705460145, 'smoothness': 6.87434445197205e-05, 'max_step': 4.5828963013147005e-05}\n",
      "{'path_length': 6.981392407200186e-05, 'height': 0.00011635654012000311, 'total_cost': 0.00016289915616800435, 'smoothness': 6.981392407200186e-05, 'max_step': 4.654261604800124e-05}\n"
     ]
    }
   ],
   "source": [
    "for result in results:\n",
    "    for key, value in result.items():\n",
    "        result['path_length'] = value * 0.15\n",
    "        result['height'] = value * 0.25\n",
    "        result['total_cost'] = value * 0.35\n",
    "        result['smoothness'] = value * 0.15\n",
    "        result['max_step'] = value * 0.1\n",
    "\n",
    "        # result['path_length'] = value * 0.2\n",
    "        # result['height'] = value * 0.2\n",
    "        # result['total_cost'] = value * 0.2\n",
    "        # result['smoothness'] = value * 0.2\n",
    "        # result['max_step'] = value * 0.2\n",
    "\n",
    "for result in results:\n",
    "    print(result)"
   ]
  },
  {
   "cell_type": "code",
   "execution_count": 5,
   "id": "ae9cb357",
   "metadata": {},
   "outputs": [
    {
     "name": "stdout",
     "output_type": "stream",
     "text": [
      "[0.00046542616048001243, 0.0004560205490578297, 0.0004853982715835641, 0.0004649718350899288, 0.0004582896301314701, 0.00046542616048001243]\n"
     ]
    }
   ],
   "source": [
    "score = []\n",
    "\n",
    "for result in results:\n",
    "    score.append(result['path_length'] + result['height'] + result['total_cost'] + result['smoothness'] + result['max_step'])\n",
    "\n",
    "print(score)\n"
   ]
  },
  {
   "cell_type": "code",
   "execution_count": 6,
   "id": "ce8f1264",
   "metadata": {},
   "outputs": [
    {
     "name": "stdout",
     "output_type": "stream",
     "text": [
      "[5, 1, 6, 3, 2, 5]\n"
     ]
    }
   ],
   "source": [
    "def get_ranks(lst):\n",
    "    sorted_indices = {v: i+1 for i, v in enumerate(sorted(lst))}\n",
    "    return [sorted_indices[v] for v in lst]\n",
    "\n",
    "print(get_ranks(score))"
   ]
  },
  {
   "cell_type": "code",
   "execution_count": null,
   "id": "e8c14307",
   "metadata": {},
   "outputs": [],
   "source": []
  }
 ],
 "metadata": {
  "kernelspec": {
   "display_name": "base",
   "language": "python",
   "name": "python3"
  },
  "language_info": {
   "codemirror_mode": {
    "name": "ipython",
    "version": 3
   },
   "file_extension": ".py",
   "mimetype": "text/x-python",
   "name": "python",
   "nbconvert_exporter": "python",
   "pygments_lexer": "ipython3",
   "version": "3.12.4"
  }
 },
 "nbformat": 4,
 "nbformat_minor": 5
}
