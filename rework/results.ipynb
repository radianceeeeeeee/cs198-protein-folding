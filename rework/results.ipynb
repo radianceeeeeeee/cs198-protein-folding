{
 "cells": [
  {
   "cell_type": "code",
   "execution_count": 7,
   "id": "7024ec46",
   "metadata": {},
   "outputs": [],
   "source": [
    "import pandas as pd"
   ]
  },
  {
   "cell_type": "code",
   "execution_count": 8,
   "id": "fcb82f7a",
   "metadata": {},
   "outputs": [],
   "source": [
    "def average_float_columns(df: pd.DataFrame) -> dict:\n",
    "    # Select only float-type columns\n",
    "    float_cols = df.select_dtypes(include=['float', 'int'])\n",
    "    \n",
    "    # Compute mean for each float column and convert to dictionary\n",
    "    averages = float_cols.mean().to_dict()\n",
    "    \n",
    "    return averages"
   ]
  },
  {
   "cell_type": "code",
   "execution_count": null,
   "id": "f8c2b2c4",
   "metadata": {},
   "outputs": [
    {
     "name": "stdout",
     "output_type": "stream",
     "text": [
      "{'path_length': 0.29857320771063456, 'height': 0.18117312435641722, 'total_cost': 0.25344607564719585, 'smoothness': 0.07265579898220874, 'max_step': 0.012095563820719444}\n",
      "{'path_length': 0.3474442278535846, 'height': 0.18117312435641722, 'total_cost': 0.25344607564719585, 'smoothness': 0.10492939809498869, 'max_step': 0.011719282190003287}\n",
      "{'path_length': 0.34699841166702766, 'height': 0.18117312435641722, 'total_cost': 0.25344607564719585, 'smoothness': 0.10441168990153533, 'max_step': 0.011757483266731164}\n",
      "{'path_length': 0.34726644285611147, 'height': 0.18117312435641722, 'total_cost': 0.25344607564719585, 'smoothness': 0.10521613286946861, 'max_step': 0.011680761176083704}\n",
      "{'path_length': 0.3474487401631651, 'height': 0.18117312435641722, 'total_cost': 0.25344607564719585, 'smoothness': 0.10482997083267732, 'max_step': 0.011645771618506578}\n",
      "{'path_length': 0.29857320771063456, 'height': 0.18117312435641722, 'total_cost': 0.25344607564719585, 'smoothness': 0.07265579898220874, 'max_step': 0.012095563820719444}\n"
     ]
    }
   ],
   "source": [
    "# Step 6: Obtain averages per metric per csv\n",
    "df_1 = pd.read_csv(\"/Users/ramonjr.comendador/cs198-protein-folding/rework/path_metrics_1-1.csv\")\n",
    "df_8 = pd.read_csv(\"/Users/ramonjr.comendador/cs198-protein-folding/rework/path_metrics_1-0.8.csv\")\n",
    "df_6 = pd.read_csv(\"/Users/ramonjr.comendador/cs198-protein-folding/rework/path_metrics_1-0.6.csv\")\n",
    "df_4 = pd.read_csv(\"/Users/ramonjr.comendador/cs198-protein-folding/rework/path_metrics_1-0.4.csv\")\n",
    "df_2 = pd.read_csv(\"/Users/ramonjr.comendador/cs198-protein-folding/rework/path_metrics_1-0.2.csv\")\n",
    "df_0 = pd.read_csv(\"/Users/ramonjr.comendador/cs198-protein-folding/rework/path_metrics_1-0.csv\")\n",
    "\n",
    "# insert global max and nin here\n",
    "global_max = float('-inf')\n",
    "global_min = float('inf')\n",
    "\n",
    "df_list = [df_1, df_8, df_6, df_4, df_2, df_0]\n",
    "\n",
    "for df in df_list:\n",
    "    global_max = max(global_max, df['path_length'].max())\n",
    "    global_min = min(global_min, df['path_length'].min())\n",
    "\n",
    "for df in df_list:\n",
    "    df['path_length'] = (df['path_length'] - global_min) / (global_max - global_min)\n",
    "\n",
    "\n",
    "csv_list = [df_1, df_8, df_6, df_4, df_2, df_0]\n",
    "\n",
    "results = [average_float_columns(df) for df in csv_list]\n",
    "\n",
    "for result in results:\n",
    "    print(result)"
   ]
  },
  {
   "cell_type": "code",
   "execution_count": 17,
   "id": "c0b28e71",
   "metadata": {},
   "outputs": [
    {
     "name": "stdout",
     "output_type": "stream",
     "text": [
      "{'path_length': 5.8781600268031175e-05, 'height': 9.796933378005196e-05, 'total_cost': 0.00013715706729207274, 'smoothness': 5.8781600268031175e-05, 'max_step': 3.9187733512020786e-05}\n",
      "{'path_length': 6.840308235867445e-05, 'height': 0.00011400513726445743, 'total_cost': 0.0001596071921702404, 'smoothness': 6.840308235867445e-05, 'max_step': 4.560205490578297e-05}\n",
      "{'path_length': 6.831531229694606e-05, 'height': 0.00011385885382824344, 'total_cost': 0.00015940239535954082, 'smoothness': 6.831531229694606e-05, 'max_step': 4.554354153129738e-05}\n",
      "{'path_length': 6.836808093729694e-05, 'height': 0.00011394680156216156, 'total_cost': 0.00015952552218702617, 'smoothness': 6.836808093729694e-05, 'max_step': 4.557872062486463e-05}\n",
      "{'path_length': 6.840397071962312e-05, 'height': 0.00011400661786603854, 'total_cost': 0.00015960926501245394, 'smoothness': 6.840397071962312e-05, 'max_step': 4.560264714641542e-05}\n",
      "{'path_length': 5.8781600268031175e-05, 'height': 9.796933378005196e-05, 'total_cost': 0.00013715706729207274, 'smoothness': 5.8781600268031175e-05, 'max_step': 3.9187733512020786e-05}\n"
     ]
    }
   ],
   "source": [
    "for result in results:\n",
    "    for key, value in result.items():\n",
    "        result['path_length'] = value * 0.15\n",
    "        result['height'] = value * 0.25\n",
    "        result['total_cost'] = value * 0.35\n",
    "        result['smoothness'] = value * 0.15\n",
    "        result['max_step'] = value * 0.1\n",
    "\n",
    "        # result['path_length'] = value * 0.2\n",
    "        # result['height'] = value * 0.2\n",
    "        # result['total_cost'] = value * 0.2\n",
    "        # result['smoothness'] = value * 0.2\n",
    "        # result['max_step'] = value * 0.2\n",
    "\n",
    "for result in results:\n",
    "    print(result)"
   ]
  },
  {
   "cell_type": "code",
   "execution_count": 18,
   "id": "ae9cb357",
   "metadata": {},
   "outputs": [
    {
     "name": "stdout",
     "output_type": "stream",
     "text": [
      "[0.0003918773351202079, 0.0004560205490578297, 0.0004554354153129738, 0.00045578720624864623, 0.0004560264714641542, 0.0003918773351202079]\n"
     ]
    }
   ],
   "source": [
    "score = []\n",
    "\n",
    "for result in results:\n",
    "    score.append(result['path_length'] + result['height'] + result['total_cost'] + result['smoothness'] + result['max_step'])\n",
    "\n",
    "print(score)\n"
   ]
  },
  {
   "cell_type": "code",
   "execution_count": 19,
   "id": "ce8f1264",
   "metadata": {},
   "outputs": [
    {
     "name": "stdout",
     "output_type": "stream",
     "text": [
      "[2, 5, 3, 4, 6, 2]\n"
     ]
    }
   ],
   "source": [
    "def get_ranks(lst):\n",
    "    sorted_indices = {v: i+1 for i, v in enumerate(sorted(lst))}\n",
    "    return [sorted_indices[v] for v in lst]\n",
    "\n",
    "print(get_ranks(score))"
   ]
  },
  {
   "cell_type": "code",
   "execution_count": null,
   "id": "e8c14307",
   "metadata": {},
   "outputs": [],
   "source": []
  }
 ],
 "metadata": {
  "kernelspec": {
   "display_name": "base",
   "language": "python",
   "name": "python3"
  },
  "language_info": {
   "codemirror_mode": {
    "name": "ipython",
    "version": 3
   },
   "file_extension": ".py",
   "mimetype": "text/x-python",
   "name": "python",
   "nbconvert_exporter": "python",
   "pygments_lexer": "ipython3",
   "version": "3.12.4"
  }
 },
 "nbformat": 4,
 "nbformat_minor": 5
}
