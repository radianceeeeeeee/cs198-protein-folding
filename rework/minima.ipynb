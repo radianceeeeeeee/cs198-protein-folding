{
 "cells": [
  {
   "cell_type": "code",
   "execution_count": 2,
   "id": "6158bf08",
   "metadata": {},
   "outputs": [],
   "source": [
    "import numpy as np"
   ]
  },
  {
   "cell_type": "code",
   "execution_count": 3,
   "id": "50394a7b",
   "metadata": {},
   "outputs": [],
   "source": [
    "def find_local_minima(matrix):\n",
    "    rows, cols = matrix.shape\n",
    "    local_minima = []\n",
    "\n",
    "    def get_neighbors(x, y):\n",
    "        \"\"\"Get the 8 neighbors of a point (x, y) with wrap-around.\"\"\"\n",
    "        neighbors = []\n",
    "        for dx in [-1, 0, 1]:\n",
    "            for dy in [-1, 0, 1]:\n",
    "                if dx == 0 and dy == 0:\n",
    "                    continue\n",
    "                # Apply wrap-around using modulo operator\n",
    "                nx = (x + dx) % rows\n",
    "                ny = (y + dy) % cols\n",
    "                neighbors.append((nx, ny))\n",
    "        return neighbors\n",
    "\n",
    "    def is_local_minimum(x, y):\n",
    "        \"\"\"Check if (x, y) is a local minimum considering its neighbors.\"\"\"\n",
    "        value = matrix[x, y]\n",
    "        neighbors = get_neighbors(x, y)\n",
    "        for nx, ny in neighbors:\n",
    "            if matrix[nx, ny] < value:\n",
    "                return False\n",
    "        return True\n",
    "\n",
    "    def get_flat_region(x, y, visited):\n",
    "        \"\"\"Get all points in the flat region starting from (x, y).\"\"\"\n",
    "        flat_points = [(x, y)]\n",
    "        visited.add((x, y))\n",
    "        value = matrix[x, y]\n",
    "        stack = [(x, y)]\n",
    "        while stack:\n",
    "            cx, cy = stack.pop()\n",
    "            neighbors = get_neighbors(cx, cy)\n",
    "            for nx, ny in neighbors:\n",
    "                if (nx, ny) not in visited and matrix[nx, ny] == value:\n",
    "                    visited.add((nx, ny))\n",
    "                    flat_points.append((nx, ny))\n",
    "                    stack.append((nx, ny))\n",
    "        return flat_points\n",
    "\n",
    "    visited = set()\n",
    "\n",
    "    for x in range(rows):\n",
    "        for y in range(cols):\n",
    "            if (x, y) in visited:\n",
    "                continue\n",
    "            \n",
    "            if is_local_minimum(x, y):\n",
    "                flat_region = get_flat_region(x, y, visited)\n",
    "                if len(flat_region) > 1:\n",
    "                    # Find the middle point of the flat region\n",
    "                    flat_region = np.array(flat_region)\n",
    "                    mid_idx = len(flat_region) // 2\n",
    "                    middle_point = tuple(flat_region[mid_idx])\n",
    "                    local_minima.append(middle_point)\n",
    "                else:\n",
    "                    local_minima.append((x, y))\n",
    "\n",
    "    return local_minima"
   ]
  }
 ],
 "metadata": {
  "kernelspec": {
   "display_name": "base",
   "language": "python",
   "name": "python3"
  },
  "language_info": {
   "codemirror_mode": {
    "name": "ipython",
    "version": 3
   },
   "file_extension": ".py",
   "mimetype": "text/x-python",
   "name": "python",
   "nbconvert_exporter": "python",
   "pygments_lexer": "ipython3",
   "version": "3.12.4"
  }
 },
 "nbformat": 4,
 "nbformat_minor": 5
}
