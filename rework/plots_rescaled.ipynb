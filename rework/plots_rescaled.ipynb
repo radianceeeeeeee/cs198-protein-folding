{
 "cells": [
  {
   "cell_type": "code",
   "execution_count": null,
   "id": "e109472b",
   "metadata": {},
   "outputs": [],
   "source": [
    "import import_ipynb\n",
    "from preprocess import *\n",
    "from plots import *\n",
    "from minima import *\n",
    "from algorithms import *\n",
    "from results import *\n",
    "\n",
    "# IMPORT NECESSARY MODULES\n",
    "import os\n",
    "import scipy\n",
    "import numpy as np\n",
    "import pandas as pd\n",
    "import seaborn as sns\n",
    "\n",
    "import matplotlib.pyplot as plt\n",
    "import plotly.graph_objects as go\n",
    "\n",
    "from itertools import permutations\n",
    "\n",
    "folder_path = \"/Users/ramonjr.comendador/cs198-protein-folding/datasets\""
   ]
  },
  {
   "cell_type": "code",
   "execution_count": null,
   "id": "87dcf59a",
   "metadata": {},
   "outputs": [],
   "source": [
    "# Load CSVs\n",
    "df_1 = pd.read_csv(\"/Users/ramonjr.comendador/cs198-protein-folding/rework/path_metrics_1-0.csv\")\n",
    "df_8 = pd.read_csv(\"/Users/ramonjr.comendador/cs198-protein-folding/rework/path_metrics_1-0.8.csv\")\n",
    "df_6 = pd.read_csv(\"/Users/ramonjr.comendador/cs198-protein-folding/rework/path_metrics_1-0.6.csv\")\n",
    "df_4 = pd.read_csv(\"/Users/ramonjr.comendador/cs198-protein-folding/rework/path_metrics_1-0.4.csv\")\n",
    "df_2 = pd.read_csv(\"/Users/ramonjr.comendador/cs198-protein-folding/rework/path_metrics_1-0.2.csv\")\n",
    "df_0 = pd.read_csv(\"/Users/ramonjr.comendador/cs198-protein-folding/rework/path_metrics_1-1.csv\")\n",
    "\n"
   ]
  },
  {
   "cell_type": "code",
   "execution_count": null,
   "id": "345553bd",
   "metadata": {},
   "outputs": [],
   "source": [
    "# Step 1: Obtain necessary CSV files and convert to 3D matrices\n",
    "csv_files = get_csv(folder_path)\n",
    "matrices = csv_to_3d_matrix(folder_path, csv_files) \n",
    "\n",
    "\n",
    "\n",
    "\n",
    "\n",
    "\n",
    "\n"
   ]
  }
 ],
 "metadata": {
  "language_info": {
   "name": "python"
  }
 },
 "nbformat": 4,
 "nbformat_minor": 5
}
