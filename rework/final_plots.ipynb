{
 "cells": [
  {
   "cell_type": "code",
   "execution_count": null,
   "id": "d062f7a6",
   "metadata": {},
   "outputs": [],
   "source": [
    "import import_ipynb\n",
    "from preprocess import *\n",
    "from plots import *\n",
    "from minima import *\n",
    "from algorithms import *\n",
    "from results import *\n",
    "\n",
    "# IMPORT NECESSARY MODULES\n",
    "import os\n",
    "import scipy\n",
    "import numpy as np\n",
    "import pandas as pd\n",
    "import seaborn as sns\n",
    "\n",
    "import matplotlib.pyplot as plt\n",
    "import plotly.graph_objects as go\n",
    "\n",
    "from itertools import permutations\n",
    "\n",
    "folder_path = \"/Users/ramonjr.comendador/cs198-protein-folding/datasets\""
   ]
  },
  {
   "cell_type": "code",
   "execution_count": null,
   "id": "eb967d2b",
   "metadata": {},
   "outputs": [],
   "source": [
    "# Step 1: Obtain necessary CSV files and convert to 3D matrices\n",
    "csv_files = get_csv(folder_path)\n",
    "print(csv_files)\n",
    "matrices = csv_to_3d_matrix(folder_path, csv_files) "
   ]
  },
  {
   "cell_type": "code",
   "execution_count": null,
   "id": "b135fe2c",
   "metadata": {},
   "outputs": [],
   "source": [
    "df1 = pd.read_csv(\"/Users/ramonjr.comendador/cs198-protein-folding/rework/path_metrics_1-1.csv\")\n",
    "df8 = pd.read_csv(\"/Users/ramonjr.comendador/cs198-protein-folding/rework/path_metrics_1-0.8.csv\")\n",
    "df6 = pd.read_csv(\"/Users/ramonjr.comendador/cs198-protein-folding/rework/path_metrics_1-0.6.csv\")\n",
    "df4 = pd.read_csv(\"/Users/ramonjr.comendador/cs198-protein-folding/rework/path_metrics_1-0.4.csv\")\n",
    "df2 = pd.read_csv(\"/Users/ramonjr.comendador/cs198-protein-folding/rework/path_metrics_1-0.2.csv\")\n",
    "df0 = pd.read_csv(\"/Users/ramonjr.comendador/cs198-protein-folding/rework/path_metrics_1-0.csv\")"
   ]
  },
  {
   "cell_type": "code",
   "execution_count": null,
   "id": "a8074746",
   "metadata": {},
   "outputs": [],
   "source": [
    "def plot_heatmap_2d(matrices, df):\n",
    "    pass\n",
    "    "
   ]
  }
 ],
 "metadata": {
  "language_info": {
   "name": "python"
  }
 },
 "nbformat": 4,
 "nbformat_minor": 5
}
