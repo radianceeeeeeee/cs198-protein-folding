{
 "cells": [
  {
   "cell_type": "code",
   "execution_count": 1,
   "metadata": {},
   "outputs": [],
   "source": [
    "import os\n",
    "import scipy\n",
    "import numpy as np\n",
    "import pandas as pd"
   ]
  },
  {
   "cell_type": "code",
   "execution_count": 2,
   "metadata": {},
   "outputs": [],
   "source": [
    "def get_csv(folder_path):\n",
    "  csv_files = [f for f in os.listdir(folder_path) if not (f.endswith('5.csv'))]   # NOTE: do not push if all csv files are loaded, load all in local only\n",
    "  return csv_files"
   ]
  },
  {
   "cell_type": "code",
   "execution_count": 3,
   "metadata": {},
   "outputs": [],
   "source": [
    "def interpolate_matrix(matrix, scale_factor):\n",
    "  interpolated_matrix = scipy.ndimage.zoom(matrix, zoom=scale_factor, order=3, mode=\"grid-wrap\")\n",
    "\n",
    "  return interpolated_matrix"
   ]
  },
  {
   "cell_type": "code",
   "execution_count": null,
   "metadata": {},
   "outputs": [],
   "source": [
    "def shift_energy_matrix(matrix):\n",
    "    min_energy = np.min(matrix)  # Find the minimum energy value\n",
    "    shifted_matrix = matrix - min_energy  # Shift all values\n",
    "    return shifted_matrix"
   ]
  },
  {
   "cell_type": "code",
   "execution_count": null,
   "metadata": {},
   "outputs": [],
   "source": [
    "def scale_energy_matrix(matrix):\n",
    "    min_energy = np.min(matrix)\n",
    "    scaled_matrix = 2625.49965 * (matrix - min_energy)\n",
    "    return scaled_matrix\n"
   ]
  },
  {
   "cell_type": "code",
   "execution_count": 5,
   "metadata": {},
   "outputs": [],
   "source": [
    "def scale_energy_matrix(matrix):\n",
    "    min_energy = np.min(matrix)\n",
    "    scaled_matrix = 2625.49965 * (matrix - min_energy)\n",
    "    return scaled_matrix\n"
   ]
  },
  {
   "cell_type": "code",
   "execution_count": 6,
   "metadata": {},
   "outputs": [],
   "source": [
    "def normalize_surface(surface):\n",
    "    \"\"\"Normalize the energy surface to values between 0 and 1.\"\"\"\n",
    "    flat = [e for row in surface for e in row]\n",
    "    E_min, E_max = min(flat), max(flat)\n",
    "    if E_max == E_min:\n",
    "        return [[0.0 for _ in row] for row in surface]  # Avoid division by zero\n",
    "    return [[(e - E_min) / (E_max - E_min) for e in row] for row in surface]"
   ]
  },
  {
   "cell_type": "code",
   "execution_count": 7,
   "metadata": {},
   "outputs": [],
   "source": [
    "def csv_to_3d_matrix(folder_path, csv_files):\n",
    "  \n",
    "  csv_to_3d_matrix = []\n",
    "\n",
    "  for csv_file in csv_files:\n",
    "    energy_levels = pd.read_csv(os.path.join(folder_path, csv_file), header=None, names=['x', 'y', 'Energy Levels'])\n",
    "\n",
    "    unique_x = energy_levels['x'].unique()\n",
    "    unique_y = energy_levels['y'].unique()\n",
    "\n",
    "    x_index = {val: idx for idx, val in enumerate(unique_x)}\n",
    "    y_index = {val: idx for idx, val in enumerate(unique_y)}\n",
    "\n",
    "    matrix = np.full((len(unique_y), len(unique_x)), np.nan)\n",
    "\n",
    "    for _, row in energy_levels.iterrows():\n",
    "      x_pos = x_index[row['x']]\n",
    "      y_pos = y_index[row['y']]\n",
    "      matrix[y_pos, x_pos] = row['Energy Levels']\n",
    "\n",
    "    interpolated_matrix = interpolate_matrix(matrix=matrix, scale_factor=10)\n",
    "    scaled_matrix = scale_energy_matrix(interpolated_matrix)\n",
    "\n",
    "    \n",
    "\n",
    "    csv_to_3d_matrix.append(scaled_matrix)\n",
    "\n",
    "  return csv_to_3d_matrix"
   ]
  },
  {
   "cell_type": "code",
   "execution_count": null,
   "metadata": {},
   "outputs": [],
   "source": [
    "def idxtopenalty(idx):\n",
    "    match idx:\n",
    "        case 0:\n",
    "            return \"1-1\"\n",
    "        case 1:\n",
    "            return \"1-0.8\"\n",
    "        case 2:\n",
    "            return \"1-0.6\"\n",
    "        case 3:\n",
    "            return \"1-0.4\"\n",
    "        case 4:\n",
    "            return \"1-0.2\"\n",
    "        case 5:\n",
    "            return \"1-0\"\n",
    "        case _:\n",
    "            print(\"Default case\")"
   ]
  }
 ],
 "metadata": {
  "kernelspec": {
   "display_name": "base",
   "language": "python",
   "name": "python3"
  },
  "language_info": {
   "codemirror_mode": {
    "name": "ipython",
    "version": 3
   },
   "file_extension": ".py",
   "mimetype": "text/x-python",
   "name": "python",
   "nbconvert_exporter": "python",
   "pygments_lexer": "ipython3",
   "version": "3.12.4"
  }
 },
 "nbformat": 4,
 "nbformat_minor": 2
}
