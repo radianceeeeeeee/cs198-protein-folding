{
 "cells": [
  {
   "cell_type": "markdown",
   "metadata": {},
   "source": [
    "# Weight functions\n",
    "Weight functions refer to the edge cost of traversing from one node to another node. These functions return the distance from one node to another. This is what will be focusing on in this study."
   ]
  },
  {
   "cell_type": "code",
   "execution_count": 1,
   "metadata": {},
   "outputs": [],
   "source": [
    "def same_weight(matrix, node1, node2):\n",
    "    return 1"
   ]
  },
  {
   "cell_type": "code",
   "execution_count": 2,
   "metadata": {},
   "outputs": [],
   "source": [
    "def euclidean_distance_3d(matrix, node1, node2):\n",
    "    # formula from: https://unacademy.com/content/nda/study-material/mathematics/analytical-geometry-three-dimensions-distance-between-two-points/\n",
    "    return ((node1[0] - node2[0]) ** 2 +    # x-coordinates\n",
    "            (node1[1] - node2[1]) ** 2 +    # y-coordinates\n",
    "            (matrix[node1[0]][node1[1]] - matrix[node2[0]][node2[1]]) ** 2 # z-coordinates or matrix[x][y] value\n",
    "            ) ** 0.5"
   ]
  }
 ],
 "metadata": {
  "kernelspec": {
   "display_name": "Python 3",
   "language": "python",
   "name": "python3"
  },
  "language_info": {
   "codemirror_mode": {
    "name": "ipython",
    "version": 3
   },
   "file_extension": ".py",
   "mimetype": "text/x-python",
   "name": "python",
   "nbconvert_exporter": "python",
   "pygments_lexer": "ipython3",
   "version": "3.11.9"
  }
 },
 "nbformat": 4,
 "nbformat_minor": 2
}
