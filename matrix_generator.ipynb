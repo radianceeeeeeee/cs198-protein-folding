{
 "cells": [
  {
   "cell_type": "code",
   "execution_count": 1,
   "metadata": {},
   "outputs": [],
   "source": [
    "import matplotlib.pyplot as plt\n",
    "import numpy as np\n",
    "\n",
    "from matplotlib import cm\n",
    "from matplotlib.ticker import LinearLocator\n",
    "from matplotlib.collections import LineCollection\n",
    "from matplotlib.colors import ListedColormap, BoundaryNorm"
   ]
  },
  {
   "cell_type": "code",
   "execution_count": 2,
   "metadata": {},
   "outputs": [],
   "source": [
    "def generate_matrix():\n",
    "    return np.random.rand(25, 25)"
   ]
  },
  {
   "cell_type": "code",
   "execution_count": 3,
   "metadata": {},
   "outputs": [],
   "source": [
    "# 2D map code from https://matplotlib.org/stable/gallery/images_contours_and_fields/pcolormesh_levels.html#pcolormesh\n",
    "\n",
    "def generate_2d_map(m):\n",
    "    x = np.arange(0, 25)\n",
    "    y = np.arange(0, 25)\n",
    "    X, Y = np.meshgrid(x, y)\n",
    "\n",
    "    fig, ax = plt.subplots()\n",
    "    ax.pcolormesh(X, Y, m)\n",
    "\n",
    "    plt.show()"
   ]
  },
  {
   "cell_type": "code",
   "execution_count": 4,
   "metadata": {},
   "outputs": [],
   "source": [
    "# 3D Map code from https://matplotlib.org/stable/gallery/mplot3d/surface3d.html#sphx-glr-gallery-mplot3d-surface3d-py\n",
    "\n",
    "def generate_3d_map(m):\n",
    "    fig, ax = plt.subplots(subplot_kw={\"projection\": \"3d\"})\n",
    "\n",
    "    # Make data.\n",
    "    X = np.arange(0, 25)\n",
    "    Y = np.arange(0, 25)\n",
    "    X, Y = np.meshgrid(X, Y)\n",
    "    Z = m\n",
    "\n",
    "    # Plot the surface.\n",
    "    surf = ax.plot_surface(X, Y, Z, cmap=cm.magma,\n",
    "                        linewidth=0, antialiased=False)\n",
    "\n",
    "    # Customize the z axis.\n",
    "    ax.set_zlim(0, 1)\n",
    "    ax.zaxis.set_major_locator(LinearLocator(10))\n",
    "    # A StrMethodFormatter is used automatically\n",
    "    ax.zaxis.set_major_formatter('{x:.02f}')\n",
    "\n",
    "    # Add a color bar which maps values to colors.\n",
    "    fig.colorbar(surf, shrink=0.5, aspect=5)\n",
    "\n",
    "    plt.show()"
   ]
  },
  {
   "cell_type": "code",
   "execution_count": 5,
   "metadata": {},
   "outputs": [],
   "source": [
    "# Plotting line in graph from https://stackoverflow.com/questions/66172720/how-to-plot-a-numpy-array-over-a-pcolor-image-in-matplotlib\n",
    "\n",
    "# top-view of row-column grid\n",
    "def generate_rc_map(m, path):\n",
    "    x = np.arange(0, 25)\n",
    "    y = np.arange(0, 25)\n",
    "    X, Y = np.meshgrid(x, y)\n",
    "\n",
    "    fig, ax = plt.subplots()\n",
    "    ax.pcolormesh(X, Y, m)\n",
    "\n",
    "    path = np.array(path)\n",
    "    ax.plot(path[:,0], path[:,1], c='r', linewidth=2)\n",
    "\n",
    "    start, finish = path[0], path[-1]\n",
    "    \n",
    "    plt.plot(start[0], start[1],'ro')\n",
    "    plt.plot(finish[0], finish[1],'rx')  \n",
    "\n",
    "    plt.show()"
   ]
  },
  {
   "cell_type": "code",
   "execution_count": 6,
   "metadata": {},
   "outputs": [],
   "source": [
    "# Template from https://matplotlib.org/stable/gallery/lines_bars_and_markers/simple_plot.html#sphx-glr-gallery-lines-bars-and-markers-simple-plot-py\n",
    "\n",
    "# side view of row-height grid\n",
    "# column is determined by color\n",
    "def generate_rh_map(m, path):\n",
    "    x = np.arange(0, 25)\n",
    "    y = np.arange(0, 25)\n",
    "    fig, ax = plt.subplots()\n",
    "\n",
    "    path = np.array(path)\n",
    "    heights = [m[n[0]][n[1]] for n in path]\n",
    "    ax.plot(path[:,1], heights, c='r', linewidth=2)\n",
    "\n",
    "    ax.set(xlabel='x-axis', ylabel='Height')\n",
    "    ax.grid()\n",
    "\n",
    "    start, finish = path[0], path[-1]\n",
    "    \n",
    "    plt.plot(start[1], heights[0],'ro')\n",
    "    plt.plot(finish[1], heights[-1],'rx')  \n",
    "\n",
    "    plt.show()\n",
    "\n",
    "\n",
    "# side view of column-height grid\n",
    "# row is determined by color\n",
    "def generate_ch_map(m, path):\n",
    "    x = np.arange(0, 25)\n",
    "    y = np.arange(0, 25)\n",
    "    fig, ax = plt.subplots()\n",
    "\n",
    "    path = np.array(path)\n",
    "    heights = [m[n[0]][n[1]] for n in path]\n",
    "    ax.plot(path[:,0], heights, c='b', linewidth=2)\n",
    "\n",
    "    ax.set(xlabel='y-axis', ylabel='Height')\n",
    "    ax.grid()\n",
    "\n",
    "    start, finish = path[0], path[-1]\n",
    "    \n",
    "    plt.plot(start[0], heights[0],'bo')\n",
    "    plt.plot(finish[0], heights[-1],'bx')  \n",
    "\n",
    "    plt.show()"
   ]
  }
 ],
 "metadata": {
  "kernelspec": {
   "display_name": "Python 3",
   "language": "python",
   "name": "python3"
  },
  "language_info": {
   "codemirror_mode": {
    "name": "ipython",
    "version": 3
   },
   "file_extension": ".py",
   "mimetype": "text/x-python",
   "name": "python",
   "nbconvert_exporter": "python",
   "pygments_lexer": "ipython3",
   "version": "3.10.4"
  }
 },
 "nbformat": 4,
 "nbformat_minor": 2
}
