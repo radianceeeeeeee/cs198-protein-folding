{
 "cells": [
  {
   "cell_type": "markdown",
   "metadata": {},
   "source": [
    "# Dijkstra's Algorithm\n",
    "\n",
    "Source code based from https://www.datacamp.com/tutorial/dijkstra-algorithm-in-python"
   ]
  },
  {
   "cell_type": "code",
   "execution_count": 1,
   "metadata": {},
   "outputs": [],
   "source": [
    "from heapq import heapify, heappop, heappush"
   ]
  },
  {
   "cell_type": "code",
   "execution_count": 2,
   "metadata": {},
   "outputs": [],
   "source": [
    "def generate_neighbors(matrix, coords):\n",
    "    x, y = coords\n",
    "    neighbors = []\n",
    "\n",
    "    # top\n",
    "    neighbors.append((x - 1, y - 1))\n",
    "    neighbors.append((x, y - 1))\n",
    "    neighbors.append((x + 1, y - 1))\n",
    "\n",
    "    # middle\n",
    "    neighbors.append((x - 1, y))\n",
    "    neighbors.append((x + 1, y))\n",
    "\n",
    "    # bottom\n",
    "    neighbors.append((x - 1, y + 1))\n",
    "    neighbors.append((x, y + 1))\n",
    "    neighbors.append((x + 1, y + 1))\n",
    "\n",
    "    return [n for n in neighbors if 0 <= n[0] < len(matrix) and 0 <= n[1] < len(matrix[0])]"
   ]
  },
  {
   "cell_type": "code",
   "execution_count": 3,
   "metadata": {},
   "outputs": [],
   "source": [
    "def shortest_distances(matrix, coords, weight_function):\n",
    "    # generate neighbors\n",
    "    neighbors = generate_neighbors(matrix, coords)\n",
    "    distances = {}\n",
    "\n",
    "    for i in range(len(matrix)):\n",
    "        for j in range(len(matrix[0])):\n",
    "            distances[(i, j)] = float(\"inf\")\n",
    "\n",
    "    distances[coords] = 0  # Set the source value to 0\n",
    "\n",
    "    # Initialize a priority queue\n",
    "    pq = [(0, coords)]\n",
    "    heapify(pq)\n",
    "\n",
    "    # Create a set to hold visited nodes\n",
    "    visited = set()\n",
    "\n",
    "    while pq:  # While the priority queue isn't empty\n",
    "        current_distance, current_node = heappop(pq)\n",
    "\n",
    "        if current_node in visited:\n",
    "            continue \n",
    "\n",
    "        visited.add(current_node)\n",
    "\n",
    "        for neighbor in generate_neighbors(matrix, current_node):\n",
    "            weight = weight_function(matrix, current_node, neighbor)\n",
    "\n",
    "            # Calculate the distance from current_node to the neighbor\n",
    "            tentative_distance = current_distance + weight\n",
    "            if tentative_distance < distances[neighbor]:\n",
    "                distances[neighbor] = tentative_distance\n",
    "                heappush(pq, (tentative_distance, neighbor))\n",
    "    \n",
    "    predecessors = {}\n",
    "    for i in range(len(matrix)):\n",
    "        for j in range(len(matrix[0])):\n",
    "            predecessors[(i, j)] = None\n",
    "\n",
    "    for node, distance in distances.items():\n",
    "        for neighbor in generate_neighbors(matrix, node):\n",
    "            weight = weight_function(matrix, node, neighbor)\n",
    "            \n",
    "            if distances[neighbor] == distance + weight:\n",
    "                predecessors[neighbor] = node\n",
    "\n",
    "    return distances, predecessors\n"
   ]
  },
  {
   "cell_type": "code",
   "execution_count": 4,
   "metadata": {},
   "outputs": [],
   "source": [
    "def shortest_path(matrix, src, dst, weight_func):\n",
    "    # Generate the predecessors dict\n",
    "    distances, predecessors = shortest_distances(matrix, src, weight_func)\n",
    "    print(distances)\n",
    "    path = []\n",
    "    current_node = dst\n",
    "\n",
    "    # Backtrack from the target node using predecessors\n",
    "    while current_node != src:\n",
    "        \n",
    "        path.append(current_node)\n",
    "        current_node = predecessors[current_node]\n",
    "\n",
    "    path.append(src)\n",
    "\n",
    "    # Reverse the path and return it\n",
    "    path.reverse()\n",
    "\n",
    "    return distances[dst], path"
   ]
  }
 ],
 "metadata": {
  "kernelspec": {
   "display_name": "Python 3",
   "language": "python",
   "name": "python3"
  },
  "language_info": {
   "codemirror_mode": {
    "name": "ipython",
    "version": 3
   },
   "file_extension": ".py",
   "mimetype": "text/x-python",
   "name": "python",
   "nbconvert_exporter": "python",
   "pygments_lexer": "ipython3",
   "version": "3.11.9"
  }
 },
 "nbformat": 4,
 "nbformat_minor": 2
}
