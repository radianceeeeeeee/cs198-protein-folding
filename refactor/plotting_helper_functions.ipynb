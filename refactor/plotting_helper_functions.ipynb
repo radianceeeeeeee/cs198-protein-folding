{
 "cells": [
  {
   "cell_type": "code",
   "execution_count": null,
   "metadata": {},
   "outputs": [],
   "source": []
  },
  {
   "cell_type": "code",
   "execution_count": 9,
   "metadata": {},
   "outputs": [],
   "source": [
    "import seaborn as sns\n",
    "import matplotlib.pyplot as plt\n",
    "import plotly.graph_objects as go\n",
    "import numpy as np"
   ]
  },
  {
   "cell_type": "code",
   "execution_count": null,
   "metadata": {},
   "outputs": [],
   "source": []
  },
  {
   "cell_type": "code",
   "execution_count": null,
   "metadata": {},
   "outputs": [],
   "source": [
    "def plot_heatmap(matrices, local_minima):\n",
    "  for i in range(len(matrices)):\n",
    "    matrix = matrices[i]\n",
    "    rows, cols = matrix.shape\n",
    "\n",
    "    x = np.arange(cols)\n",
    "    y = np.arange(rows)\n",
    "\n",
    "    # x = np.linspace(-180, 180, rows)\n",
    "    # y = np.linspace(-180, 180, cols)\n",
    "\n",
    "    X, Y = np.meshgrid(x, y)\n",
    "    Z = matrix\n",
    "\n",
    "    fig = go.Figure()\n",
    "\n",
    "    fig.add_trace(go.Surface(z=Z, x=X, y=Y, colorscale=\"Magma\", opacity=0.9, name=\"Surface\"))\n",
    "\n",
    "    # Plot local minima in green\n",
    "    minima_x, minima_y = zip(*[(j[1], j[0]) for j in local_minima[i]])\n",
    "    minima_z = [matrix[y][x] for x, y in zip(minima_x, minima_y)]\n",
    "    fig.add_trace(go.Scatter3d(x=minima_x, y=minima_y, z=minima_z,\n",
    "                               mode='markers', marker=dict(color='green', size=6),\n",
    "                               name=\"Local Minima\"))\n",
    "\n",
    "    fig.show()\n",
    "\n",
    "    \n",
    "\n"
   ]
  }
 ],
 "metadata": {
  "kernelspec": {
   "display_name": "base",
   "language": "python",
   "name": "python3"
  },
  "language_info": {
   "codemirror_mode": {
    "name": "ipython",
    "version": 3
   },
   "file_extension": ".py",
   "mimetype": "text/x-python",
   "name": "python",
   "nbconvert_exporter": "python",
   "pygments_lexer": "ipython3",
   "version": "3.12.4"
  }
 },
 "nbformat": 4,
 "nbformat_minor": 2
}
