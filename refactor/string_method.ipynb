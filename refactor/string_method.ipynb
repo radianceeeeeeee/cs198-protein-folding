{
 "cells": [
  {
   "cell_type": "code",
   "execution_count": 52,
   "metadata": {},
   "outputs": [],
   "source": [
    "import numpy as np\n",
    "\n",
    "from ipynb.fs.full.pathfinding_algorithms import *"
   ]
  },
  {
   "cell_type": "code",
   "execution_count": 53,
   "metadata": {},
   "outputs": [],
   "source": [
    "m = np.array([\n",
    "    [1, 1, 1, 1, 1],\n",
    "    [1, 5, 5, 5, 1],\n",
    "    [1, 5, 5, 5, 1],\n",
    "    [1, 5, 5, 5, 1],\n",
    "    [1, 1, 1, 1, 1],\n",
    "])"
   ]
  },
  {
   "cell_type": "code",
   "execution_count": 69,
   "metadata": {},
   "outputs": [],
   "source": [
    "def string_method(matrix, start, end):\n",
    "    # assign x- and y-values to variables\n",
    "    first_x, last_x = start[0], end[0]\n",
    "    isXFlipped, isYFlipped = False, False\n",
    "\n",
    "    # if start node is larger, flip the two, then set bool for flipping to True\n",
    "    if start[0] > end[0]:\n",
    "        first_x = end[0]\n",
    "        last_x = start[0]\n",
    "        isXFlipped = True\n",
    "\n",
    "    if start[1] > end[1]:\n",
    "        first_y = end[1]\n",
    "        last_y = start[1]\n",
    "        isYFlipped = True\n",
    "\n",
    "    # create x- and y-value array\n",
    "    x_values = np.arange(first_x, last_x + 1)\n",
    "    y_values = np.arange(first_y, last_y + 1)\n",
    "\n",
    "    # add padding if len(x_values) != len(y_values)\n",
    "    if len(x_values) < len(y_values):\n",
    "        x_values = np.pad(x_values, (0, len(y_values) - len(x_values)), mode='edge')\n",
    "    elif len(x_values) > len(y_values):\n",
    "        y_values = np.pad(y_values, (0, len(x_values) - len(y_values)), mode='edge')\n",
    "\n",
    "    # flip the array if needed\n",
    "    if isXFlipped: x_values = x_values[::-1]\n",
    "    if isYFlipped: y_values = y_values[::-1]\n",
    "\n",
    "    initial_string = np.dstack((x_values, y_values))\n",
    "\n",
    "    print(initial_string)\n",
    "\n",
    "    for arr in initial_string:\n",
    "        for pair in arr:\n",
    "            matrix[pair[0], pair[1]] = 0\n",
    "\n",
    "    print(matrix)"
   ]
  },
  {
   "cell_type": "code",
   "execution_count": null,
   "metadata": {},
   "outputs": [],
   "source": [
    "print(m)"
   ]
  },
  {
   "cell_type": "code",
   "execution_count": null,
   "metadata": {},
   "outputs": [
    {
     "name": "stdout",
     "output_type": "stream",
     "text": [
      "[[[0 4]\n",
      "  [1 4]\n",
      "  [2 3]\n",
      "  [3 2]\n",
      "  [4 1]]]\n",
      "[[1 1 1 1 0]\n",
      " [1 5 5 5 0]\n",
      " [1 5 5 0 1]\n",
      " [1 5 0 5 1]\n",
      " [1 0 1 1 1]]\n"
     ]
    }
   ],
   "source": [
    "string_method(m, (0, 4), (4, 1))"
   ]
  }
 ],
 "metadata": {
  "kernelspec": {
   "display_name": "Python 3",
   "language": "python",
   "name": "python3"
  },
  "language_info": {
   "codemirror_mode": {
    "name": "ipython",
    "version": 3
   },
   "file_extension": ".py",
   "mimetype": "text/x-python",
   "name": "python",
   "nbconvert_exporter": "python",
   "pygments_lexer": "ipython3",
   "version": "3.11.9"
  }
 },
 "nbformat": 4,
 "nbformat_minor": 2
}
