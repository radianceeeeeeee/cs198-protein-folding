{
 "cells": [
  {
   "cell_type": "code",
   "execution_count": 411,
   "metadata": {},
   "outputs": [],
   "source": [
    "import numpy as np\n",
    "\n",
    "from ipynb.fs.full.pathfinding_algorithms import *"
   ]
  },
  {
   "cell_type": "code",
   "execution_count": 412,
   "metadata": {},
   "outputs": [],
   "source": [
    "m = np.array([\n",
    "    [1, 1, 1, 1, 1],\n",
    "    [1, 5, 5, 5, 1],\n",
    "    [1, 5, 5, 5, 1],\n",
    "    [1, 5, 5, 5, 1],\n",
    "    [1, 1, 1, 1, 1],\n",
    "])"
   ]
  },
  {
   "cell_type": "code",
   "execution_count": 413,
   "metadata": {},
   "outputs": [],
   "source": [
    "def string_method_initial_path(start, end):\n",
    "    # assign x- and y-values to variables\n",
    "    first_x, last_x = start[0], end[0]\n",
    "    isXFlipped, isYFlipped = False, False\n",
    "\n",
    "    # if start node is larger, flip the two, then set bool for flipping to True\n",
    "    if start[0] > end[0]:\n",
    "        first_x = end[0]\n",
    "        last_x = start[0]\n",
    "        isXFlipped = True\n",
    "\n",
    "    if start[1] > end[1]:\n",
    "        first_y = end[1]\n",
    "        last_y = start[1]\n",
    "        isYFlipped = True\n",
    "\n",
    "    # create x- and y-value array\n",
    "    x_values = np.arange(first_x, last_x + 1)\n",
    "    y_values = np.arange(first_y, last_y + 1)\n",
    "\n",
    "    # add padding if len(x_values) != len(y_values)\n",
    "    if len(x_values) < len(y_values):\n",
    "        x_values = np.pad(x_values, (0, len(y_values) - len(x_values)), mode='edge')\n",
    "    elif len(x_values) > len(y_values):\n",
    "        y_values = np.pad(y_values, (0, len(x_values) - len(y_values)), mode='edge')\n",
    "\n",
    "    # flip the array if needed\n",
    "    if isXFlipped: x_values = x_values[::-1]\n",
    "    if isYFlipped: y_values = y_values[::-1]\n",
    "\n",
    "    initial_string = np.dstack((x_values, y_values))[0]\n",
    "\n",
    "    return initial_string"
   ]
  },
  {
   "cell_type": "code",
   "execution_count": 414,
   "metadata": {},
   "outputs": [],
   "source": [
    "def euclidean_distance(matrix, node1, node2):\n",
    "    return  ((node1[0] - node2[0]) ** 2 +    # x-coordinates\n",
    "            (node1[1] - node2[1]) ** 2 +    # y-coordinates\n",
    "            (matrix[node1[0]][node1[1]] - matrix[node2[0]][node2[1]]) ** 2 # z-coordinates or matrix[x][y] value\n",
    "            ) ** 0.5"
   ]
  },
  {
   "cell_type": "code",
   "execution_count": 415,
   "metadata": {},
   "outputs": [],
   "source": [
    "def path_sum(m, pairs):\n",
    "    sum = 0\n",
    "\n",
    "    for p in range(len(pairs) - 1):\n",
    "        sum += euclidean_distance(m, pairs[p], pairs[p + 1])\n",
    "\n",
    "    return sum"
   ]
  },
  {
   "cell_type": "code",
   "execution_count": null,
   "metadata": {},
   "outputs": [],
   "source": [
    "def string_method(m, path):\n",
    "    new_path = []\n",
    "\n",
    "    for p in range(len(path) - 2):\n",
    "        currNode = path[p]\n",
    "        nextNode = path[p + 1]\n",
    "        nextNextNode = path[p + 2]\n",
    "        \n",
    "        if currNode[0] != nextNode[0] and currNode[1] != nextNode[1]:\n",
    "            # diagonal path (only check 2 nodes)\n",
    "            initial_path = [currNode, nextNode]\n",
    "            print(\"Diagonal path:\", initial_path)\n",
    "\n",
    "            # check corners\n",
    "            L_path = [currNode, [nextNode[0], currNode[1]], nextNode]\n",
    "            UL_path = [currNode, [currNode[0], nextNode[1]], nextNode]\n",
    "\n",
    "            initial_path_sum = path_sum(m, initial_path)\n",
    "            L_path_sum = path_sum(m, L_path)\n",
    "            UL_path_sum = path_sum(m, UL_path)\n",
    "\n",
    "            print(initial_path, L_path, UL_path)\n",
    "            print(initial_path_sum, L_path_sum, UL_path_sum)\n",
    "\n",
    "            if initial_path_sum > L_path_sum:\n",
    "                new_path.append(L_path)\n",
    "            elif initial_path_sum > UL_path_sum:\n",
    "                new_path.append(UL_path)\n",
    "            else:\n",
    "                new_path.append(initial_path)\n",
    "\n",
    "        elif currNode[0] == nextNode[0] and nextNode[1] == nextNextNode[1]:\n",
    "            # Upside-down L path\n",
    "            initial_path = [currNode, nextNode, nextNextNode]\n",
    "            print(\"Upside-down L path:\", initial_path)\n",
    "\n",
    "            L_path = [currNode, [currNode[1], nextNextNode[0]], nextNextNode]\n",
    "            D_path = [currNode, nextNextNode]\n",
    "\n",
    "            initial_path_sum = path_sum(m, initial_path)\n",
    "            L_path_sum = path_sum(m, L_path)\n",
    "            D_path_sum = path_sum(m, D_path)\n",
    "\n",
    "            if initial_path_sum > L_path_sum:\n",
    "                new_path.append(L_path)\n",
    "            elif initial_path_sum > D_path_sum:\n",
    "                new_path.append(D_path)\n",
    "            else:\n",
    "                new_path.append(initial_path)\n",
    "        elif nextNode[0] == nextNextNode[0] and currNode[1] == nextNode[1]:\n",
    "            # L path\n",
    "            initial_path = [currNode, nextNode, nextNextNode]\n",
    "            print(\"L path:\", initial_path)\n",
    "\n",
    "            UL_path = [currNode, [currNode[0], nextNextNode[1]], nextNextNode]\n",
    "            D_path = [currNode, nextNextNode]\n",
    "\n",
    "            initial_path_sum = path_sum(m, initial_path)\n",
    "            D_path_sum = path_sum(m, D_path)\n",
    "            UL_path_sum = path_sum(m, UL_path)\n",
    "\n",
    "            if initial_path_sum > D_path_sum:\n",
    "                new_path.append(D_path)\n",
    "            elif initial_path_sum > UL_path_sum:\n",
    "                new_path.append(UL_path)\n",
    "            else:\n",
    "                new_path.append(initial_path)\n",
    "\n",
    "    print(\"New Path:\", new_path)"
   ]
  },
  {
   "cell_type": "code",
   "execution_count": 417,
   "metadata": {},
   "outputs": [
    {
     "name": "stdout",
     "output_type": "stream",
     "text": [
      "L-path:\n",
      "\n",
      "L path: [[0, 1], [1, 1], [1, 2]]\n",
      "New Path: [[[0, 1], [1, 2]]]\n",
      "UL-path:\n",
      "\n",
      "Upside-down L path: [[0, 1], [0, 2], [1, 2]]\n",
      "New Path: [[[0, 1], [1, 2]]]\n"
     ]
    }
   ],
   "source": [
    "#pairs = string_method_initial_path((0, 4), (4, 1))\n",
    "#print(pairs)\n",
    "\n",
    "L_pairs = [[0, 1], [1, 1], [1, 2]]\n",
    "UL_pairs = [[0, 1], [0, 2], [1, 2]]\n",
    "\n",
    "print(\"L-path:\\n\")\n",
    "string_method(m, L_pairs)\n",
    "\n",
    "print(\"UL-path:\\n\")\n",
    "string_method(m, UL_pairs)"
   ]
  },
  {
   "cell_type": "code",
   "execution_count": 418,
   "metadata": {},
   "outputs": [
    {
     "name": "stdout",
     "output_type": "stream",
     "text": [
      "D-path:\n",
      "\n",
      "[[0, 0], [1, 1], [2, 2], [3, 3]]\n",
      "Diagonal path: [[0, 0], [1, 1]]\n",
      "200.00499993750157 200.0099997500125 200.0099997500125\n",
      "Diagonal path: [[1, 1], [2, 2]]\n",
      "200.00499993750157 200.0099997500125 200.0099997500125\n",
      "New Path: [[[0, 0], [1, 1]], [[1, 1], [2, 2]]]\n"
     ]
    }
   ],
   "source": [
    "x = [\n",
    "    [100, 0, 0, 0],\n",
    "    [0, -100, 0, 0],\n",
    "    [0, 0, 100, 0],\n",
    "    [0, 0, 0, -100],\n",
    "]\n",
    "\n",
    "D_pairs = [[0, 0], [1, 1], [2, 2], [3, 3]]\n",
    "\n",
    "print(\"D-path:\\n\")\n",
    "print(D_pairs)\n",
    "string_method(x, D_pairs)"
   ]
  }
 ],
 "metadata": {
  "kernelspec": {
   "display_name": "Python 3",
   "language": "python",
   "name": "python3"
  },
  "language_info": {
   "codemirror_mode": {
    "name": "ipython",
    "version": 3
   },
   "file_extension": ".py",
   "mimetype": "text/x-python",
   "name": "python",
   "nbconvert_exporter": "python",
   "pygments_lexer": "ipython3",
   "version": "3.11.9"
  }
 },
 "nbformat": 4,
 "nbformat_minor": 2
}
