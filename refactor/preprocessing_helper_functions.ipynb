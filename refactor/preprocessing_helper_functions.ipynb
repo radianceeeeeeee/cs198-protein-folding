{
 "cells": [
  {
   "cell_type": "code",
   "execution_count": 10,
   "metadata": {},
   "outputs": [],
   "source": [
    "# IMPORT NECESSARY MODULES\n",
    "import os\n",
    "import scipy\n",
    "import numpy as np\n",
    "import pandas as pd\n",
    "import seaborn as sns\n",
    "import matplotlib.pyplot as plt\n",
    "\n",
    "folder_path = \"/Users/ramonjr.comendador/cs198-protein-folding/datasets\""
   ]
  },
  {
   "cell_type": "code",
   "execution_count": 11,
   "metadata": {},
   "outputs": [],
   "source": [
    "def get_csv(folder_path):\n",
    "  csv_files = [f for f in os.listdir(folder_path) if not (f.endswith('5.csv'))]\n",
    "  return csv_files"
   ]
  },
  {
   "cell_type": "code",
   "execution_count": 12,
   "metadata": {},
   "outputs": [],
   "source": [
    "\n",
    "def interpolate_matrix(matrix, scale_factor):\n",
    "  interpolated_matrix = scipy.ndimage.zoom(matrix, zoom=scale_factor, order=3)\n",
    "\n",
    "  return interpolated_matrix"
   ]
  },
  {
   "cell_type": "code",
   "execution_count": 13,
   "metadata": {},
   "outputs": [],
   "source": [
    "def csv_to_3d_matrix(folder_path, csv_files):\n",
    "  \n",
    "  csv_to_3d_matrix = []\n",
    "\n",
    "  for csv_file in csv_files:\n",
    "    energy_levels = pd.read_csv(os.path.join(folder_path, csv_file), header=None, names=['x', 'y', 'Energy Levels'])\n",
    "\n",
    "    unique_x = energy_levels['x'].unique()\n",
    "    unique_y = energy_levels['y'].unique()\n",
    "\n",
    "    x_index = {val: idx for idx, val in enumerate(unique_x)}\n",
    "    y_index = {val: idx for idx, val in enumerate(unique_y)}\n",
    "\n",
    "    matrix = np.full((len(unique_y), len(unique_x)), np.nan)\n",
    "\n",
    "    for _, row in energy_levels.iterrows():\n",
    "      x_pos = x_index[row['x']]\n",
    "      y_pos = y_index[row['y']]\n",
    "      matrix[y_pos, x_pos] = row['Energy Levels']\n",
    "\n",
    "    interpolated_matrix = interpolate_matrix(matrix=matrix, scale_factor=10)\n",
    "\n",
    "    csv_to_3d_matrix.append(interpolated_matrix)\n",
    "\n",
    "  return csv_to_3d_matrix\n"
   ]
  },
  {
   "cell_type": "code",
   "execution_count": 18,
   "metadata": {},
   "outputs": [],
   "source": []
  },
  {
   "cell_type": "code",
   "execution_count": null,
   "metadata": {},
   "outputs": [],
   "source": []
  }
 ],
 "metadata": {
  "kernelspec": {
   "display_name": "base",
   "language": "python",
   "name": "python3"
  },
  "language_info": {
   "codemirror_mode": {
    "name": "ipython",
    "version": 3
   },
   "file_extension": ".py",
   "mimetype": "text/x-python",
   "name": "python",
   "nbconvert_exporter": "python",
   "pygments_lexer": "ipython3",
   "version": "3.12.4"
  }
 },
 "nbformat": 4,
 "nbformat_minor": 2
}
