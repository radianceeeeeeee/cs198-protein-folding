{
 "cells": [
  {
   "cell_type": "code",
   "execution_count": 8,
   "metadata": {},
   "outputs": [],
   "source": [
    "from ipynb.fs.full.local_minima_detection import find_local_minima\n",
    "import numpy as np"
   ]
  },
  {
   "cell_type": "code",
   "execution_count": null,
   "metadata": {},
   "outputs": [
    {
     "name": "stdout",
     "output_type": "stream",
     "text": [
      "[(1, 7)]\n"
     ]
    }
   ],
   "source": [
    "# Test 0: Flat Surface\n",
    "# Flat surface means there is no minima\n",
    "\n",
    "if __name__ == \"__main__\":\n",
    "    surface = np.array([\n",
    "            [0, 0, 0, 0, 0, 0, 0, 0, 0, 0],\n",
    "            [0, 0, 0, 0, 0, 0, 0, 0, 0, 0],\n",
    "            [0, 0, 0, 0, 0, 0, 0, 0, 0, 0],\n",
    "            [0, 0, 0, 0, 0, 0, 0, 0, 0, 0],\n",
    "            [0, 0, 0, 0, 0, 0, 0, 0, 0, 0],\n",
    "            [0, 0, 0, 0, 0, 0, 0, 0, 0, 0],\n",
    "            [0, 0, 0, 0, 0, 0, 0, 0, 0, 0],\n",
    "            [0, 0, 0, 0, 0, 0, 0, 0, 0, 0],\n",
    "            [0, 0, 0, 0, 0, 0, 0, 0, 0, 0],\n",
    "            [0, 0, 0, 0, 0, 0, 0, 0, 0, 0],\n",
    "    ])\n",
    "\n",
    "    print(find_local_minima(surface))"
   ]
  },
  {
   "cell_type": "code",
   "execution_count": null,
   "metadata": {},
   "outputs": [
    {
     "name": "stdout",
     "output_type": "stream",
     "text": [
      "[(2, 1), (2, 2)]\n"
     ]
    }
   ],
   "source": [
    "# Test 1: The Pit\n",
    "# One singular dip in the surface\n",
    "\n",
    "if __name__ == \"__main__\":\n",
    "    surface = np.array([\n",
    "            [1, 1, 1, 1, 1],\n",
    "            [1, 1, 1, 1, 1],\n",
    "            [1, 1, 0, 1, 1],\n",
    "            [1, 1, 1, 1, 1],\n",
    "            [1, 1, 1, 1, 1],\n",
    "    ])\n",
    "\n",
    "    print(find_local_minima(surface))"
   ]
  },
  {
   "cell_type": "code",
   "execution_count": 19,
   "metadata": {},
   "outputs": [
    {
     "name": "stdout",
     "output_type": "stream",
     "text": [
      "[(1, 2), (2, 1)]\n"
     ]
    }
   ],
   "source": [
    "# Test 2: The Trench\n",
    "# One whole column of dip\n",
    "\n",
    "if __name__ == \"__main__\":\n",
    "    surface = np.array([\n",
    "            [1, 1, 1, 1, 1],\n",
    "            [1, 1, 1, 1, 1],\n",
    "            [0, 0, 0, 0, 0],\n",
    "            [1, 1, 1, 1, 1],\n",
    "            [1, 1, 1, 1, 1],\n",
    "    ])\n",
    "\n",
    "    print(find_local_minima(surface))"
   ]
  },
  {
   "cell_type": "code",
   "execution_count": null,
   "metadata": {},
   "outputs": [
    {
     "name": "stdout",
     "output_type": "stream",
     "text": [
      "[(1, 7), (1, 2), (7, 7)]\n"
     ]
    }
   ],
   "source": [
    "# Test 3: Two Dips\n",
    "# Two unequal dips\n",
    "\n",
    "if __name__ == \"__main__\":\n",
    "    surface = np.array([\n",
    "            [1,  1,  1,  1,  1,  1,  1,  1,  1,  1],\n",
    "            [1,  1,  0,  1,  1,  1,  1,  1,  1,  1],\n",
    "            [1,  1,  1,  1,  1,  1,  1,  1,  1,  1],\n",
    "            [1,  1,  1,  1,  1,  1,  1,  1,  1,  1],\n",
    "            [1,  1,  1,  1,  1,  1,  1,  1,  1,  1],\n",
    "            [1,  1,  1,  1,  1,  1,  1,  1,  1,  1],\n",
    "            [1,  1,  1,  1,  1,  1,  1,  0,  1,  1],\n",
    "            [1,  1,  1,  1,  1,  1,  0, -1,  0,  1],\n",
    "            [1,  1,  1,  1,  1,  1,  1,  0,  1,  1],\n",
    "            [1,  1,  1,  1,  1,  1,  1,  1,  1,  1],\n",
    "    ])  \n",
    "\n",
    "    print(find_local_minima(surface))"
   ]
  },
  {
   "cell_type": "code",
   "execution_count": 18,
   "metadata": {},
   "outputs": [
    {
     "name": "stdout",
     "output_type": "stream",
     "text": [
      "[(2, 1)]\n"
     ]
    }
   ],
   "source": [
    "# Test 4: The Peak\n",
    "# One singular tip in the surface\n",
    "\n",
    "if __name__ == \"__main__\":\n",
    "    surface = np.array([\n",
    "            [1, 1, 1, 1, 1],\n",
    "            [1, 1, 1, 1, 1],\n",
    "            [1, 1, 5, 1, 1],\n",
    "            [1, 1, 1, 1, 1],\n",
    "            [1, 1, 1, 1, 1],\n",
    "    ])\n",
    "\n",
    "    print(find_local_minima(surface))"
   ]
  },
  {
   "cell_type": "code",
   "execution_count": 17,
   "metadata": {},
   "outputs": [
    {
     "name": "stdout",
     "output_type": "stream",
     "text": [
      "[(2, 0)]\n"
     ]
    }
   ],
   "source": [
    "# Test 5: The Hill\n",
    "# Gentle slope in the surface\n",
    "\n",
    "if __name__ == \"__main__\":\n",
    "    surface = np.array([\n",
    "            [1,      1,      1,      1,    1],\n",
    "            [1,      1,    1.5,      1,    1],\n",
    "            [1,    1.5,      2,    1.5,    1],\n",
    "            [1,      1,    1.5,      1,    1],\n",
    "            [1,      1,      1,      1,    1],\n",
    "    ])\n",
    "\n",
    "    print(find_local_minima(surface))"
   ]
  }
 ],
 "metadata": {
  "kernelspec": {
   "display_name": "Python 3",
   "language": "python",
   "name": "python3"
  },
  "language_info": {
   "codemirror_mode": {
    "name": "ipython",
    "version": 3
   },
   "file_extension": ".py",
   "mimetype": "text/x-python",
   "name": "python",
   "nbconvert_exporter": "python",
   "pygments_lexer": "ipython3",
   "version": "3.11.9"
  }
 },
 "nbformat": 4,
 "nbformat_minor": 2
}
