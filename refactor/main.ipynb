{
 "cells": [
  {
   "cell_type": "code",
   "execution_count": 1,
   "metadata": {},
   "outputs": [],
   "source": [
    "import import_ipynb\n",
    "from preprocessing_helper_functions import *\n",
    "from plotting_helper_functions import *\n",
    "from local_minima_detection import *\n",
    "from pathfinding_algorithms import *\n",
    "\n",
    "# IMPORT NECESSARY MODULES\n",
    "import os\n",
    "import scipy\n",
    "import numpy as np\n",
    "import pandas as pd\n",
    "import seaborn as sns\n",
    "import matplotlib.pyplot as plt\n",
    "import plotly.graph_objects as go\n",
    "\n",
    "from itertools import permutations\n",
    "\n",
    "folder_path = \"/Users/ramonjr.comendador/cs198-protein-folding/datasets\""
   ]
  },
  {
   "cell_type": "markdown",
   "metadata": {},
   "source": [
    "### Main"
   ]
  },
  {
   "cell_type": "code",
   "execution_count": null,
   "metadata": {},
   "outputs": [
    {
     "name": "stdout",
     "output_type": "stream",
     "text": [
      "['W.csv', 'V.csv', 'A.csv', 'C.csv', 'T.csv', 'Q.csv', 'F.csv', 'G.csv', 'R.csv', 'E.csv', 'D.csv', 'S.csv', 'I.csv', 'H.csv', 'K.csv', 'X.csv', 'Y.csv', 'N.csv', 'L.csv', 'M.csv']\n"
     ]
    }
   ],
   "source": [
    "# Step 1: Obtain necessary CSV files and convert to 3D matrices\n",
    "csv_files = get_csv(folder_path)\n",
    "matrices = csv_to_3d_matrix(folder_path, csv_files) \n",
    "print(csv_files)\n",
    "# Step 2: Find local minima for each matrix\n",
    "local_minima = [find_local_minima(matrix) for matrix in matrices]\n",
    "# local_minima_num = [len(i) for i in local_minima]\n",
    "# csv_minima_num = dict(zip(csv_files, local_minima_num))\n",
    "# sorted_dict = dict(sorted(csv_minima_num.items(), key=lambda item: item[1]))\n",
    "# print(sorted_dict)\n",
    "\n",
    "# # Step 3: Compute paths using A* and Dijkstra algorithms\n",
    "# dijkstra_paths, energy_diff_path, energy_downhill_path = [], [], []\n",
    "\n",
    "# for i, matrix in enumerate(matrices):\n",
    "#     start, end = local_minima[i][3], local_minima[i][6]  # Replace with named keys for clarity\n",
    "#     # dijkstra_paths.append(dijkstra_euclidean_distance(matrix, start, end))\n",
    "#     # energy_diff_path.append(dijkstra_absolute_difference(matrix, start, end))\n",
    "#     # energy_downhill_path.append(dijkstra_absolute_energy(matrix, start, end))\n",
    "#     dijkstra_paths.append(dijkstra_general_formula(matrix, start, end)) # returns 1. energy path height 2. path length 3. cost 4. max step 5. variance\n",
    "#     print()\n",
    "\n",
    "\n",
    "# Step 3: Compute paths for all pairs of local minima\n",
    "\n",
    "\n",
    "for i, matrix in enumerate(matrices):\n",
    "\n",
    "    minima_points = local_minima[i]  # Store local minima of the current matrix\n",
    "\n",
    "    # for i in range(101):\n",
    "    #     for start, end in permutations(minima_points, 2):  # Generate all unique pairs\n",
    "    #         dijkstra_allpaths.append(dijkstra_general_formula(matrix, start, end, alpha=(100-i)/100, beta=i/100)) # returns 1. energy path height 2. path length 3. cost 4. max step 5. variance\n",
    "\n",
    "    dijkstra_allpaths = []\n",
    "\n",
    "    for start, end in permutations(minima_points, 2):  # Generate all unique pairs\n",
    "        dijkstra_allpaths.append(dijkstra_euclidean_distance(matrix, start, end)) # returns 1. energy path height 2. path length 3. cost 4. max step 5. variance\n",
    "\n",
    "\n",
    "    # Convert to DataFrame\n",
    "    # df = pd.DataFrame(dijkstra_allpaths, columns=[\"start\", \"goal\", \"alpha\", \"beta\", \"energy path height\", \"path length\", \"cost\", \"maximum energy barrier\", \"path smoothness\", \"path\"])\n",
    "    df = pd.DataFrame(dijkstra_allpaths, columns=[\"start\", \"goal\", \"energy path height\", \"path length\", \"cost\", \"maximum energy barrier\", \"path smoothness\", \"path\"])\n",
    "\n",
    "    # Save to CSV\n",
    "    df.to_csv(f\"{csv_files[i:i+1][0][0]}_DHB_path_metrics.csv\", index=False)\n",
    "\n",
    "    print(\"Metrics saved to path_metrics.csv\")\n",
    "# Step 4: Plot heatmaps for A* and Dijkstra paths\n",
    "# plotted_heatmaps_astar = plot_heatmap(matrices, local_minima, astar_paths, \"Magma\")\n",
    "# plotted_heatmaps_dijkstra = plot_heatmap(matrices, local_minima, dijkstra_paths, \"Blues\")\n",
    "\n"
   ]
  },
  {
   "cell_type": "code",
   "execution_count": 2,
   "metadata": {},
   "outputs": [],
   "source": [
    "ED_df = pd.read_csv(\"/Users/ramonjr.comendador/cs198-protein-folding/Euclidean Distance/A_ED_path_metrics.csv\")\n",
    "DHB_df = pd.read_csv(\"/Users/ramonjr.comendador/cs198-protein-folding/Downhill Bias/A_DHB_path_metrics.csv\")\n",
    "AED_df = pd.read_csv(\"/Users/ramonjr.comendador/cs198-protein-folding/Absolute Energy Difference/A_AED_path_metrics.csv\")"
   ]
  },
  {
   "cell_type": "code",
   "execution_count": null,
   "metadata": {},
   "outputs": [
    {
     "name": "stdout",
     "output_type": "stream",
     "text": [
      "     start        goal  energy path height_file1  path length_file1  \\\n",
      "0  (0, 15)   (85, 176)                  0.012129                 90   \n",
      "1  (0, 15)    (100, 1)                  0.009984                101   \n",
      "2  (0, 15)   (140, 36)                  0.003228                111   \n",
      "3  (0, 15)  (146, 170)                  0.016597                105   \n",
      "4  (0, 15)  (149, 249)                  0.007240                102   \n",
      "\n",
      "   cost_file1  maximum energy barrier_file1  path smoothness_file1  \\\n",
      "0  124.208156                      0.000349           8.956171e-08   \n",
      "1  105.798991                      0.000221           1.208028e-08   \n",
      "2  118.698485                      0.000070           1.418927e-09   \n",
      "3  143.350292                      0.000578           1.006398e-07   \n",
      "4  107.627417                      0.000171           7.255697e-09   \n",
      "\n",
      "                                          path_file1  \\\n",
      "0  [(0, 15), (1, 14), (2, 13), (3, 12), (4, 11), ...   \n",
      "1  [(0, 15), (1, 15), (2, 15), (3, 15), (4, 15), ...   \n",
      "2  [(0, 15), (249, 16), (248, 17), (247, 18), (24...   \n",
      "3  [(0, 15), (249, 14), (248, 13), (247, 12), (24...   \n",
      "4  [(0, 15), (249, 15), (248, 15), (247, 15), (24...   \n",
      "\n",
      "   energy path height_file2  path length_file2  cost_file2  \\\n",
      "0                  0.010478                180    0.010478   \n",
      "1                  0.008823                180    0.008835   \n",
      "2                  0.002707                114    0.002732   \n",
      "3                  0.010719                182    0.010816   \n",
      "4                  0.006670                141    0.006670   \n",
      "\n",
      "   maximum energy barrier_file2  path smoothness_file2  \\\n",
      "0                      0.000311           2.112890e-08   \n",
      "1                      0.000433           5.360085e-09   \n",
      "2                      0.000105           9.185273e-10   \n",
      "3                      0.000220           1.145248e-08   \n",
      "4                      0.000325           1.187178e-08   \n",
      "\n",
      "                                          path_file2  energy path height  \\\n",
      "0  [(0, 15), (249, 14), (248, 13), (247, 12), (24...            0.010478   \n",
      "1  [(0, 15), (0, 16), (249, 17), (248, 18), (247,...            0.008823   \n",
      "2  [(0, 15), (0, 16), (249, 17), (248, 18), (247,...            0.002707   \n",
      "3  [(0, 15), (1, 15), (2, 15), (3, 15), (4, 15), ...            0.010719   \n",
      "4  [(0, 15), (0, 16), (249, 17), (248, 18), (247,...            0.006670   \n",
      "\n",
      "   path length      cost  maximum energy barrier  path smoothness  \\\n",
      "0          135  0.019416                0.000311     3.020301e-08   \n",
      "1          180  0.009562                0.000433     5.461259e-09   \n",
      "2          112  0.003150                0.000105     9.401692e-10   \n",
      "3          164  0.015062                0.000220     1.225475e-08   \n",
      "4          141  0.007620                0.000325     1.187178e-08   \n",
      "\n",
      "                                                path  \n",
      "0  [(0, 15), (249, 14), (248, 13), (247, 12), (24...  \n",
      "1  [(0, 15), (0, 16), (249, 17), (248, 18), (247,...  \n",
      "2  [(0, 15), (0, 16), (249, 17), (248, 18), (247,...  \n",
      "3  [(0, 15), (1, 15), (2, 15), (3, 15), (4, 15), ...  \n",
      "4  [(0, 15), (0, 16), (249, 17), (248, 18), (247,...  \n"
     ]
    }
   ],
   "source": [
    "merged_df = ED_df.merge(DHB_df, on=[\"start\", \"goal\"], suffixes=(\"_ED\", \"_DHB\")) \\\n",
    "               .merge(AED_df, on=[\"start\", \"goal\"], suffixes=(\"\", \"_AED\"))\n",
    "\n",
    "print(merged_df.head())  # View the merged DataFrame\n"
   ]
  },
  {
   "cell_type": "code",
   "execution_count": null,
   "metadata": {},
   "outputs": [
    {
     "ename": "ValueError",
     "evalue": "Can only compare identically-labeled (both index and columns) DataFrame objects",
     "output_type": "error",
     "traceback": [
      "\u001b[0;31m---------------------------------------------------------------------------\u001b[0m",
      "\u001b[0;31mValueError\u001b[0m                                Traceback (most recent call last)",
      "\u001b[0;32m/var/folders/1r/nngnwrb919s8zlt95x0y9nm00000gn/T/ipykernel_60037/1792945443.py\u001b[0m in \u001b[0;36m?\u001b[0;34m()\u001b[0m\n\u001b[1;32m      1\u001b[0m diff_df = merged_df[\n\u001b[0;32m----> 2\u001b[0;31m     \u001b[0;34m(\u001b[0m\u001b[0mmerged_df\u001b[0m\u001b[0;34m.\u001b[0m\u001b[0mfilter\u001b[0m\u001b[0;34m(\u001b[0m\u001b[0mlike\u001b[0m\u001b[0;34m=\u001b[0m\u001b[0;34m\"_file1\"\u001b[0m\u001b[0;34m)\u001b[0m \u001b[0;34m!=\u001b[0m \u001b[0mmerged_df\u001b[0m\u001b[0;34m.\u001b[0m\u001b[0mfilter\u001b[0m\u001b[0;34m(\u001b[0m\u001b[0mlike\u001b[0m\u001b[0;34m=\u001b[0m\u001b[0;34m\"_file2\"\u001b[0m\u001b[0;34m)\u001b[0m\u001b[0;34m)\u001b[0m\u001b[0;34m.\u001b[0m\u001b[0many\u001b[0m\u001b[0;34m(\u001b[0m\u001b[0maxis\u001b[0m\u001b[0;34m=\u001b[0m\u001b[0;36m1\u001b[0m\u001b[0;34m)\u001b[0m \u001b[0;34m|\u001b[0m\u001b[0;34m\u001b[0m\u001b[0;34m\u001b[0m\u001b[0m\n\u001b[0m\u001b[1;32m      3\u001b[0m     \u001b[0;34m(\u001b[0m\u001b[0mmerged_df\u001b[0m\u001b[0;34m.\u001b[0m\u001b[0mfilter\u001b[0m\u001b[0;34m(\u001b[0m\u001b[0mlike\u001b[0m\u001b[0;34m=\u001b[0m\u001b[0;34m\"_file1\"\u001b[0m\u001b[0;34m)\u001b[0m \u001b[0;34m!=\u001b[0m \u001b[0mmerged_df\u001b[0m\u001b[0;34m.\u001b[0m\u001b[0mfilter\u001b[0m\u001b[0;34m(\u001b[0m\u001b[0mlike\u001b[0m\u001b[0;34m=\u001b[0m\u001b[0;34m\"_file3\"\u001b[0m\u001b[0;34m)\u001b[0m\u001b[0;34m)\u001b[0m\u001b[0;34m.\u001b[0m\u001b[0many\u001b[0m\u001b[0;34m(\u001b[0m\u001b[0maxis\u001b[0m\u001b[0;34m=\u001b[0m\u001b[0;36m1\u001b[0m\u001b[0;34m)\u001b[0m \u001b[0;34m|\u001b[0m\u001b[0;34m\u001b[0m\u001b[0;34m\u001b[0m\u001b[0m\n\u001b[1;32m      4\u001b[0m     \u001b[0;34m(\u001b[0m\u001b[0mmerged_df\u001b[0m\u001b[0;34m.\u001b[0m\u001b[0mfilter\u001b[0m\u001b[0;34m(\u001b[0m\u001b[0mlike\u001b[0m\u001b[0;34m=\u001b[0m\u001b[0;34m\"_file2\"\u001b[0m\u001b[0;34m)\u001b[0m \u001b[0;34m!=\u001b[0m \u001b[0mmerged_df\u001b[0m\u001b[0;34m.\u001b[0m\u001b[0mfilter\u001b[0m\u001b[0;34m(\u001b[0m\u001b[0mlike\u001b[0m\u001b[0;34m=\u001b[0m\u001b[0;34m\"_file3\"\u001b[0m\u001b[0;34m)\u001b[0m\u001b[0;34m)\u001b[0m\u001b[0;34m.\u001b[0m\u001b[0many\u001b[0m\u001b[0;34m(\u001b[0m\u001b[0maxis\u001b[0m\u001b[0;34m=\u001b[0m\u001b[0;36m1\u001b[0m\u001b[0;34m)\u001b[0m\u001b[0;34m\u001b[0m\u001b[0;34m\u001b[0m\u001b[0m\n\u001b[1;32m      5\u001b[0m \u001b[0;34m]\u001b[0m\u001b[0;34m\u001b[0m\u001b[0;34m\u001b[0m\u001b[0m\n",
      "\u001b[0;32m/opt/anaconda3/lib/python3.12/site-packages/pandas/core/ops/common.py\u001b[0m in \u001b[0;36m?\u001b[0;34m(self, other)\u001b[0m\n\u001b[1;32m     72\u001b[0m                     \u001b[0;32mreturn\u001b[0m \u001b[0mNotImplemented\u001b[0m\u001b[0;34m\u001b[0m\u001b[0;34m\u001b[0m\u001b[0m\n\u001b[1;32m     73\u001b[0m \u001b[0;34m\u001b[0m\u001b[0m\n\u001b[1;32m     74\u001b[0m         \u001b[0mother\u001b[0m \u001b[0;34m=\u001b[0m \u001b[0mitem_from_zerodim\u001b[0m\u001b[0;34m(\u001b[0m\u001b[0mother\u001b[0m\u001b[0;34m)\u001b[0m\u001b[0;34m\u001b[0m\u001b[0;34m\u001b[0m\u001b[0m\n\u001b[1;32m     75\u001b[0m \u001b[0;34m\u001b[0m\u001b[0m\n\u001b[0;32m---> 76\u001b[0;31m         \u001b[0;32mreturn\u001b[0m \u001b[0mmethod\u001b[0m\u001b[0;34m(\u001b[0m\u001b[0mself\u001b[0m\u001b[0;34m,\u001b[0m \u001b[0mother\u001b[0m\u001b[0;34m)\u001b[0m\u001b[0;34m\u001b[0m\u001b[0;34m\u001b[0m\u001b[0m\n\u001b[0m",
      "\u001b[0;32m/opt/anaconda3/lib/python3.12/site-packages/pandas/core/arraylike.py\u001b[0m in \u001b[0;36m?\u001b[0;34m(self, other)\u001b[0m\n\u001b[1;32m     42\u001b[0m     \u001b[0;34m@\u001b[0m\u001b[0munpack_zerodim_and_defer\u001b[0m\u001b[0;34m(\u001b[0m\u001b[0;34m\"__ne__\"\u001b[0m\u001b[0;34m)\u001b[0m\u001b[0;34m\u001b[0m\u001b[0;34m\u001b[0m\u001b[0m\n\u001b[1;32m     43\u001b[0m     \u001b[0;32mdef\u001b[0m \u001b[0m__ne__\u001b[0m\u001b[0;34m(\u001b[0m\u001b[0mself\u001b[0m\u001b[0;34m,\u001b[0m \u001b[0mother\u001b[0m\u001b[0;34m)\u001b[0m\u001b[0;34m:\u001b[0m\u001b[0;34m\u001b[0m\u001b[0;34m\u001b[0m\u001b[0m\n\u001b[0;32m---> 44\u001b[0;31m         \u001b[0;32mreturn\u001b[0m \u001b[0mself\u001b[0m\u001b[0;34m.\u001b[0m\u001b[0m_cmp_method\u001b[0m\u001b[0;34m(\u001b[0m\u001b[0mother\u001b[0m\u001b[0;34m,\u001b[0m \u001b[0moperator\u001b[0m\u001b[0;34m.\u001b[0m\u001b[0mne\u001b[0m\u001b[0;34m)\u001b[0m\u001b[0;34m\u001b[0m\u001b[0;34m\u001b[0m\u001b[0m\n\u001b[0m",
      "\u001b[0;32m/opt/anaconda3/lib/python3.12/site-packages/pandas/core/frame.py\u001b[0m in \u001b[0;36m?\u001b[0;34m(self, other, op)\u001b[0m\n\u001b[1;32m   7894\u001b[0m     \u001b[0;32mdef\u001b[0m \u001b[0m_cmp_method\u001b[0m\u001b[0;34m(\u001b[0m\u001b[0mself\u001b[0m\u001b[0;34m,\u001b[0m \u001b[0mother\u001b[0m\u001b[0;34m,\u001b[0m \u001b[0mop\u001b[0m\u001b[0;34m)\u001b[0m\u001b[0;34m:\u001b[0m\u001b[0;34m\u001b[0m\u001b[0;34m\u001b[0m\u001b[0m\n\u001b[1;32m   7895\u001b[0m         \u001b[0maxis\u001b[0m\u001b[0;34m:\u001b[0m \u001b[0mLiteral\u001b[0m\u001b[0;34m[\u001b[0m\u001b[0;36m1\u001b[0m\u001b[0;34m]\u001b[0m \u001b[0;34m=\u001b[0m \u001b[0;36m1\u001b[0m  \u001b[0;31m# only relevant for Series other case\u001b[0m\u001b[0;34m\u001b[0m\u001b[0;34m\u001b[0m\u001b[0m\n\u001b[1;32m   7896\u001b[0m \u001b[0;34m\u001b[0m\u001b[0m\n\u001b[0;32m-> 7897\u001b[0;31m         \u001b[0mself\u001b[0m\u001b[0;34m,\u001b[0m \u001b[0mother\u001b[0m \u001b[0;34m=\u001b[0m \u001b[0mself\u001b[0m\u001b[0;34m.\u001b[0m\u001b[0m_align_for_op\u001b[0m\u001b[0;34m(\u001b[0m\u001b[0mother\u001b[0m\u001b[0;34m,\u001b[0m \u001b[0maxis\u001b[0m\u001b[0;34m,\u001b[0m \u001b[0mflex\u001b[0m\u001b[0;34m=\u001b[0m\u001b[0;32mFalse\u001b[0m\u001b[0;34m,\u001b[0m \u001b[0mlevel\u001b[0m\u001b[0;34m=\u001b[0m\u001b[0;32mNone\u001b[0m\u001b[0;34m)\u001b[0m\u001b[0;34m\u001b[0m\u001b[0;34m\u001b[0m\u001b[0m\n\u001b[0m\u001b[1;32m   7898\u001b[0m \u001b[0;34m\u001b[0m\u001b[0m\n\u001b[1;32m   7899\u001b[0m         \u001b[0;31m# See GH#4537 for discussion of scalar op behavior\u001b[0m\u001b[0;34m\u001b[0m\u001b[0;34m\u001b[0m\u001b[0m\n\u001b[1;32m   7900\u001b[0m         \u001b[0mnew_data\u001b[0m \u001b[0;34m=\u001b[0m \u001b[0mself\u001b[0m\u001b[0;34m.\u001b[0m\u001b[0m_dispatch_frame_op\u001b[0m\u001b[0;34m(\u001b[0m\u001b[0mother\u001b[0m\u001b[0;34m,\u001b[0m \u001b[0mop\u001b[0m\u001b[0;34m,\u001b[0m \u001b[0maxis\u001b[0m\u001b[0;34m=\u001b[0m\u001b[0maxis\u001b[0m\u001b[0;34m)\u001b[0m\u001b[0;34m\u001b[0m\u001b[0;34m\u001b[0m\u001b[0m\n",
      "\u001b[0;32m/opt/anaconda3/lib/python3.12/site-packages/pandas/core/frame.py\u001b[0m in \u001b[0;36m?\u001b[0;34m(self, other, axis, flex, level)\u001b[0m\n\u001b[1;32m   8192\u001b[0m                     left, right = left.align(\n\u001b[1;32m   8193\u001b[0m                         \u001b[0mright\u001b[0m\u001b[0;34m,\u001b[0m \u001b[0mjoin\u001b[0m\u001b[0;34m=\u001b[0m\u001b[0;34m\"outer\"\u001b[0m\u001b[0;34m,\u001b[0m \u001b[0mlevel\u001b[0m\u001b[0;34m=\u001b[0m\u001b[0mlevel\u001b[0m\u001b[0;34m,\u001b[0m \u001b[0mcopy\u001b[0m\u001b[0;34m=\u001b[0m\u001b[0;32mFalse\u001b[0m\u001b[0;34m\u001b[0m\u001b[0;34m\u001b[0m\u001b[0m\n\u001b[1;32m   8194\u001b[0m                     \u001b[0;34m)\u001b[0m\u001b[0;34m\u001b[0m\u001b[0;34m\u001b[0m\u001b[0m\n\u001b[1;32m   8195\u001b[0m                 \u001b[0;32melse\u001b[0m\u001b[0;34m:\u001b[0m\u001b[0;34m\u001b[0m\u001b[0;34m\u001b[0m\u001b[0m\n\u001b[0;32m-> 8196\u001b[0;31m                     raise ValueError(\n\u001b[0m\u001b[1;32m   8197\u001b[0m                         \u001b[0;34m\"Can only compare identically-labeled (both index and columns) \"\u001b[0m\u001b[0;34m\u001b[0m\u001b[0;34m\u001b[0m\u001b[0m\n\u001b[1;32m   8198\u001b[0m                         \u001b[0;34m\"DataFrame objects\"\u001b[0m\u001b[0;34m\u001b[0m\u001b[0;34m\u001b[0m\u001b[0m\n\u001b[1;32m   8199\u001b[0m                     \u001b[0;34m)\u001b[0m\u001b[0;34m\u001b[0m\u001b[0;34m\u001b[0m\u001b[0m\n",
      "\u001b[0;31mValueError\u001b[0m: Can only compare identically-labeled (both index and columns) DataFrame objects"
     ]
    }
   ],
   "source": []
  },
  {
   "cell_type": "code",
   "execution_count": null,
   "metadata": {},
   "outputs": [],
   "source": []
  }
 ],
 "metadata": {
  "kernelspec": {
   "display_name": "base",
   "language": "python",
   "name": "python3"
  },
  "language_info": {
   "codemirror_mode": {
    "name": "ipython",
    "version": 3
   },
   "file_extension": ".py",
   "mimetype": "text/x-python",
   "name": "python",
   "nbconvert_exporter": "python",
   "pygments_lexer": "ipython3",
   "version": "3.12.4"
  }
 },
 "nbformat": 4,
 "nbformat_minor": 2
}
