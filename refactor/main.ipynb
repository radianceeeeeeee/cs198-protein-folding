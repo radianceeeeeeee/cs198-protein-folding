{
 "cells": [
  {
   "cell_type": "code",
   "execution_count": 1,
   "metadata": {},
   "outputs": [],
   "source": [
    "import import_ipynb\n",
    "from preprocessing_helper_functions import *\n",
    "from plotting_helper_functions import *\n",
    "from local_minima_detection import *\n",
    "from pathfinding_algorithms import *\n",
    "\n",
    "# IMPORT NECESSARY MODULES\n",
    "import os\n",
    "import scipy\n",
    "import numpy as np\n",
    "import pandas as pd\n",
    "import seaborn as sns\n",
    "import matplotlib.pyplot as plt\n",
    "import plotly.graph_objects as go\n",
    "\n",
    "from itertools import permutations\n",
    "\n",
    "folder_path = \"/Users/ramonjr.comendador/cs198-protein-folding/datasets\""
   ]
  },
  {
   "cell_type": "markdown",
   "metadata": {},
   "source": [
    "### Main"
   ]
  },
  {
   "cell_type": "code",
   "execution_count": null,
   "metadata": {},
   "outputs": [],
   "source": [
    "# Step 1: Obtain necessary CSV files and convert to 3D matrices\n",
    "csv_files = get_csv(folder_path)\n",
    "matrices = csv_to_3d_matrix(folder_path, csv_files[:5]) \n",
    "\n",
    "# Step 2: Find local minima for each matrix\n",
    "local_minima = [find_local_minima(matrix) for matrix in matrices]\n",
    "\n",
    "# Step 3: Compute paths using A* and Dijkstra algorithms\n",
    "astar_paths, a_star_energy_based_paths, dijkstra_paths = [], [], []\n",
    "\n",
    "for i, matrix in enumerate(matrices):\n",
    "    start, end = local_minima[i][3], local_minima[i][6]  # Replace with named keys for clarity\n",
    "    # astar_paths.append(a_star_wrap_around_surface(matrix, start, end))\n",
    "    dijkstra_paths.append(dijkstra_wrap_around_surface(matrix, start, end))\n",
    "\n",
    "# # Step 3: Compute paths for all pairs of local minima\n",
    "# astar_allpaths = []\n",
    "# dijkstra_allpaths = []\n",
    "\n",
    "# for i, matrix in enumerate(matrices):\n",
    "#     minima_points = local_minima[i]  # Store local minima of the current matrix\n",
    "\n",
    "#     for start, end in permutations(minima_points, 2):  # Generate all unique pairs\n",
    "#         astar_allpaths.append(a_star_wrap_around_surface(matrix, start, end))\n",
    "#         dijkstra_allpaths.append(dijkstra_wrap_around_surface(matrix, start, end))\n",
    "\n",
    "# Step 4: Plot heatmaps for A* and Dijkstra paths\n",
    "# plotted_heatmaps_astar = plot_heatmap(matrices, local_minima, astar_paths, \"Magma\")\n",
    "plotted_heatmaps_dijkstra = plot_heatmap(matrices, local_minima, dijkstra_paths, \"Blues\")\n"
   ]
  }
 ],
 "metadata": {
  "kernelspec": {
   "display_name": "base",
   "language": "python",
   "name": "python3"
  },
  "language_info": {
   "codemirror_mode": {
    "name": "ipython",
    "version": 3
   },
   "file_extension": ".py",
   "mimetype": "text/x-python",
   "name": "python",
   "nbconvert_exporter": "python",
   "pygments_lexer": "ipython3",
   "version": "3.12.4"
  }
 },
 "nbformat": 4,
 "nbformat_minor": 2
}
