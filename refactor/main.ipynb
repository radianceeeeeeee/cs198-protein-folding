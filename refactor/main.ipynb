{
 "cells": [
  {
   "cell_type": "code",
   "execution_count": 18,
   "metadata": {},
   "outputs": [],
   "source": [
    "import import_ipynb\n",
    "from helper_functions import *"
   ]
  },
  {
   "cell_type": "code",
   "execution_count": 24,
   "metadata": {},
   "outputs": [
    {
     "name": "stdout",
     "output_type": "stream",
     "text": [
      "W.csv\n",
      "V.csv\n",
      "A.csv\n",
      "C.csv\n",
      "T.csv\n",
      "Q.csv\n",
      "F.csv\n",
      "G.csv\n",
      "R.csv\n",
      "E.csv\n",
      "D.csv\n",
      "S.csv\n",
      "I.csv\n",
      "H.csv\n",
      "K.csv\n",
      "X.csv\n",
      "Y.csv\n",
      "N.csv\n",
      "L.csv\n",
      "M.csv\n"
     ]
    }
   ],
   "source": [
    "folder_path = \"/Users/ramonjr.comendador/cs198-protein-folding/datasets\"\n",
    "\n",
    "csv_files = get_csv(folder_path)\n",
    "\n",
    "\n"
   ]
  },
  {
   "cell_type": "code",
   "execution_count": null,
   "metadata": {},
   "outputs": [],
   "source": []
  }
 ],
 "metadata": {
  "kernelspec": {
   "display_name": "base",
   "language": "python",
   "name": "python3"
  },
  "language_info": {
   "codemirror_mode": {
    "name": "ipython",
    "version": 3
   },
   "file_extension": ".py",
   "mimetype": "text/x-python",
   "name": "python",
   "nbconvert_exporter": "python",
   "pygments_lexer": "ipython3",
   "version": "3.12.4"
  }
 },
 "nbformat": 4,
 "nbformat_minor": 2
}
