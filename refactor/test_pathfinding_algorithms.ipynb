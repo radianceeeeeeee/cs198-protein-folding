{
 "cells": [
  {
   "cell_type": "code",
   "execution_count": 1,
   "metadata": {},
   "outputs": [],
   "source": [
    "import ipynb.fs.full.pathfinding_algorithms as find_path"
   ]
  },
  {
   "cell_type": "code",
   "execution_count": null,
   "metadata": {},
   "outputs": [
    {
     "name": "stdout",
     "output_type": "stream",
     "text": [
      "Total distance: 4.0\n",
      "Path found: [(0, 2), (0, 3), (0, 4), (0, 5), (0, 6)]\n"
     ]
    }
   ],
   "source": [
    "# Test 1: Flat Surface\n",
    "# If the surface is flat, go straight\n",
    "# Expected output: [(0, 2), (0, 3), (0, 4), (0, 5), (0, 6)]\n",
    "\n",
    "if __name__ == \"__main__\":\n",
    "    surface = [\n",
    "            [1, 1, 1, 1, 1, 1, 1, 1, 1, 1],\n",
    "    ]\n",
    "\n",
    "    start = (0, 2)\n",
    "    end = (0, 6)\n",
    "    path = find_path.dijkstra_wrap_around_surface(surface, start, end)\n",
    "\n",
    "    print(\"Path found:\", path)"
   ]
  },
  {
   "cell_type": "code",
   "execution_count": null,
   "metadata": {},
   "outputs": [
    {
     "name": "stdout",
     "output_type": "stream",
     "text": [
      "Total distance: 5.656854249492381\n",
      "Path found: [(2, 2), (3, 3), (4, 4), (5, 5), (6, 6)]\n"
     ]
    }
   ],
   "source": [
    "# Test 2: Straight Line\n",
    "# Diagonals are shorter\n",
    "# Expected output: [(2, 2), (3, 3), (4, 4), (5, 5), (5, 6)]\n",
    "\n",
    "if __name__ == \"__main__\":\n",
    "    surface = [\n",
    "            [1, 1, 1, 1, 1, 1, 1, 1, 1, 1],\n",
    "            [1, 1, 1, 1, 1, 1, 1, 1, 1, 1],\n",
    "            [1, 1, 1, 1, 1, 1, 1, 1, 1, 1],\n",
    "            [1, 1, 1, 1, 1, 1, 1, 1, 1, 1],\n",
    "            [1, 1, 1, 1, 1, 1, 1, 1, 1, 1],\n",
    "            [1, 1, 1, 1, 1, 1, 1, 1, 1, 1],\n",
    "            [1, 1, 1, 1, 1, 1, 1, 1, 1, 1],\n",
    "            [1, 1, 1, 1, 1, 1, 1, 1, 1, 1],\n",
    "            [1, 1, 1, 1, 1, 1, 1, 1, 1, 1],\n",
    "            [1, 1, 1, 1, 1, 1, 1, 1, 1, 1],\n",
    "    ]\n",
    "\n",
    "    start = (2, 2)\n",
    "    end = (6, 6)\n",
    "    path = find_path.dijkstra_wrap_around_surface(surface, start, end)\n",
    "\n",
    "    print(\"Path found:\", path)"
   ]
  },
  {
   "cell_type": "code",
   "execution_count": null,
   "metadata": {},
   "outputs": [],
   "source": [
    "# Test 3: Wrap Around\n",
    "# Check if it's faster to do wrap around\n",
    "# Expected output: [(1, 1), (0, 0), (9, 9), (8, 8)]\n",
    "\n",
    "if __name__ == \"__main__\":\n",
    "    surface = [\n",
    "            [1, 1, 1, 1, 1, 1, 1, 1, 1, 1],\n",
    "            [1, 1, 1, 1, 1, 1, 1, 1, 1, 1],\n",
    "            [1, 1, 1, 1, 1, 1, 1, 1, 1, 1],\n",
    "            [1, 1, 1, 1, 1, 1, 1, 1, 1, 1],\n",
    "            [1, 1, 1, 1, 1, 1, 1, 1, 1, 1],\n",
    "            [1, 1, 1, 1, 1, 1, 1, 1, 1, 1],\n",
    "            [1, 1, 1, 1, 1, 1, 1, 1, 1, 1],\n",
    "            [1, 1, 1, 1, 1, 1, 1, 1, 1, 1],\n",
    "            [1, 1, 1, 1, 1, 1, 1, 1, 1, 1],\n",
    "            [1, 1, 1, 1, 1, 1, 1, 1, 1, 1],\n",
    "    ]\n",
    "\n",
    "    start = (1, 1)\n",
    "    end = (8, 8)\n",
    "    path = find_path.dijkstra_wrap_around_surface(surface, start, end)\n",
    "\n",
    "    print(\"Path found:\", path)"
   ]
  }
 ],
 "metadata": {
  "kernelspec": {
   "display_name": "Python 3",
   "language": "python",
   "name": "python3"
  },
  "language_info": {
   "codemirror_mode": {
    "name": "ipython",
    "version": 3
   },
   "file_extension": ".py",
   "mimetype": "text/x-python",
   "name": "python",
   "nbconvert_exporter": "python",
   "pygments_lexer": "ipython3",
   "version": "3.11.9"
  }
 },
 "nbformat": 4,
 "nbformat_minor": 2
}
